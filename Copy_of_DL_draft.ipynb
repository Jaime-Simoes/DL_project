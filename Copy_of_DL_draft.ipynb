{
  "nbformat": 4,
  "nbformat_minor": 0,
  "metadata": {
    "colab": {
      "provenance": [],
      "authorship_tag": "ABX9TyM/GmPbaLE2HIDaGydhDAJZ",
      "include_colab_link": true
    },
    "kernelspec": {
      "name": "python3",
      "display_name": "Python 3"
    },
    "language_info": {
      "name": "python"
    }
  },
  "cells": [
    {
      "cell_type": "markdown",
      "metadata": {
        "id": "view-in-github",
        "colab_type": "text"
      },
      "source": [
        "<a href=\"https://colab.research.google.com/github/Jaime-Simoes/DL_project/blob/main/Copy_of_DL_draft.ipynb\" target=\"_parent\"><img src=\"https://colab.research.google.com/assets/colab-badge.svg\" alt=\"Open In Colab\"/></a>"
      ]
    },
    {
      "cell_type": "code",
      "source": [
        "# to put all the imports necessary\n",
        "\n",
        "import pandas as pd\n",
        "import tensorflow as tf\n",
        "from tensorflow.keras import layers, models\n",
        "from sklearn.model_selection import train_test_split\n",
        "import requests\n",
        "import os\n",
        "import urllib.request\n",
        "import matplotlib.pyplot as plt\n",
        "import seaborn as sns\n",
        "import shutil\n",
        "from multiprocessing import Pool\n",
        "from google.colab import files\n",
        "import logging\n",
        "import time"
      ],
      "metadata": {
        "id": "NEeKYPiqyCA0"
      },
      "execution_count": 181,
      "outputs": []
    },
    {
      "cell_type": "code",
      "execution_count": 182,
      "metadata": {
        "id": "Xgqw5L-6qzZq"
      },
      "outputs": [],
      "source": [
        "df = pd.read_csv('fitzpatrick17k.csv')"
      ]
    },
    {
      "cell_type": "code",
      "source": [
        "# get names of columns\n",
        "\n",
        "columns = df.columns.tolist()\n",
        "print(columns)"
      ],
      "metadata": {
        "colab": {
          "base_uri": "https://localhost:8080/"
        },
        "id": "PybaAPa2t_Mw",
        "outputId": "7cca5a86-feac-4165-ca33-af8d1212ec12"
      },
      "execution_count": 183,
      "outputs": [
        {
          "output_type": "stream",
          "name": "stdout",
          "text": [
            "['md5hash', 'fitzpatrick_scale', 'fitzpatrick_centaur', 'label', 'nine_partition_label', 'three_partition_label', 'qc', 'url', 'url_alphanum']\n"
          ]
        }
      ]
    },
    {
      "cell_type": "code",
      "source": [
        "print(len(df))      # amount of occurences"
      ],
      "metadata": {
        "colab": {
          "base_uri": "https://localhost:8080/"
        },
        "id": "r93tM6BEuWFO",
        "outputId": "40c2d4de-b7cc-4095-ce99-20f084b7e9f2"
      },
      "execution_count": 184,
      "outputs": [
        {
          "output_type": "stream",
          "name": "stdout",
          "text": [
            "16577\n"
          ]
        }
      ]
    },
    {
      "cell_type": "code",
      "source": [
        "df.isnull().sum()     # missing values"
      ],
      "metadata": {
        "colab": {
          "base_uri": "https://localhost:8080/"
        },
        "id": "cQatQq2_ufah",
        "outputId": "57f2d2dd-5eed-4b61-fb8e-822c77860c7e"
      },
      "execution_count": 185,
      "outputs": [
        {
          "output_type": "execute_result",
          "data": {
            "text/plain": [
              "md5hash                      0\n",
              "fitzpatrick_scale            0\n",
              "fitzpatrick_centaur          0\n",
              "label                        0\n",
              "nine_partition_label         0\n",
              "three_partition_label        0\n",
              "qc                       16073\n",
              "url                         41\n",
              "url_alphanum                 0\n",
              "dtype: int64"
            ]
          },
          "metadata": {},
          "execution_count": 185
        }
      ]
    },
    {
      "cell_type": "code",
      "source": [
        "df.isna().sum()"
      ],
      "metadata": {
        "id": "bt1t5gamywvx",
        "outputId": "697ce308-038e-4bc5-e2ce-9f80cde0b92a",
        "colab": {
          "base_uri": "https://localhost:8080/"
        }
      },
      "execution_count": 186,
      "outputs": [
        {
          "output_type": "execute_result",
          "data": {
            "text/plain": [
              "md5hash                      0\n",
              "fitzpatrick_scale            0\n",
              "fitzpatrick_centaur          0\n",
              "label                        0\n",
              "nine_partition_label         0\n",
              "three_partition_label        0\n",
              "qc                       16073\n",
              "url                         41\n",
              "url_alphanum                 0\n",
              "dtype: int64"
            ]
          },
          "metadata": {},
          "execution_count": 186
        }
      ]
    },
    {
      "cell_type": "code",
      "source": [
        "print(df.duplicated(subset=['md5hash']).sum())\n",
        "\n",
        "# First column has no repeated values. It's codes of some sort to identify each occurence.\n",
        "# So we can delete this column."
      ],
      "metadata": {
        "colab": {
          "base_uri": "https://localhost:8080/"
        },
        "id": "yFGJJUV4W06C",
        "outputId": "e401abd8-8857-4ca9-f791-cb103d10160b"
      },
      "execution_count": 187,
      "outputs": [
        {
          "output_type": "stream",
          "name": "stdout",
          "text": [
            "0\n"
          ]
        }
      ]
    },
    {
      "cell_type": "code",
      "source": [
        "df.drop(columns=['md5hash'], inplace=True)"
      ],
      "metadata": {
        "id": "42peCRoNW07m"
      },
      "execution_count": 188,
      "outputs": []
    },
    {
      "cell_type": "code",
      "source": [
        "# qc might be quality control"
      ],
      "metadata": {
        "id": "yOdl6oVHx4NG"
      },
      "execution_count": 189,
      "outputs": []
    },
    {
      "cell_type": "code",
      "source": [
        "print(df['qc'].value_counts())     # numbers before are part of the names\n",
        "\n",
        "# need to discuss this, not sure what's going on"
      ],
      "metadata": {
        "colab": {
          "base_uri": "https://localhost:8080/"
        },
        "id": "dpXV_VTbx8j7",
        "outputId": "efe95531-b59e-4c70-a139-7012aceefc56"
      },
      "execution_count": 190,
      "outputs": [
        {
          "output_type": "stream",
          "name": "stdout",
          "text": [
            "1 Diagnostic          348\n",
            "5 Potentially          97\n",
            "2 Characteristic       32\n",
            "3 Wrongly labelled     17\n",
            "4 Other                10\n",
            "Name: qc, dtype: int64\n"
          ]
        }
      ]
    },
    {
      "cell_type": "code",
      "source": [
        "print(df['label'].value_counts())      # our target variable. lenght = 114 ;"
      ],
      "metadata": {
        "colab": {
          "base_uri": "https://localhost:8080/"
        },
        "id": "o4G_x3F5B3kJ",
        "outputId": "77382e54-3be1-488b-80c5-31fdd554c11c"
      },
      "execution_count": 191,
      "outputs": [
        {
          "output_type": "stream",
          "name": "stdout",
          "text": [
            "psoriasis                      653\n",
            "squamous cell carcinoma        581\n",
            "lichen planus                  491\n",
            "basal cell carcinoma           468\n",
            "allergic contact dermatitis    430\n",
            "                              ... \n",
            "port wine stain                 59\n",
            "erythema elevatum diutinum      55\n",
            "pustular psoriasis              53\n",
            "xanthomas                       53\n",
            "pilomatricoma                   53\n",
            "Name: label, Length: 114, dtype: int64\n"
          ]
        }
      ]
    },
    {
      "cell_type": "code",
      "source": [
        "duplicate_url = df.duplicated(subset=['url'])\n",
        "print(duplicate_url.value_counts())\n",
        "\n",
        "# 40 url repeat. Let's see if the whole line is equal (except 1st column that is some weird code)"
      ],
      "metadata": {
        "colab": {
          "base_uri": "https://localhost:8080/"
        },
        "id": "3KZlklxMB3py",
        "outputId": "4940ae42-6013-4c97-d6e4-2ae251cc5426"
      },
      "execution_count": 192,
      "outputs": [
        {
          "output_type": "stream",
          "name": "stdout",
          "text": [
            "False    16537\n",
            "True        40\n",
            "dtype: int64\n"
          ]
        }
      ]
    },
    {
      "cell_type": "code",
      "source": [
        "print(df.iloc[:, 1:].duplicated().sum())     # duplicate rows except first column\n",
        "\n",
        "# so there are 40 repeated url but no repeated rows. Meaning equal pictures have\n",
        "# different attributes. need to discuss this."
      ],
      "metadata": {
        "colab": {
          "base_uri": "https://localhost:8080/"
        },
        "id": "dttI_F6fCqtu",
        "outputId": "e48e7682-57d7-45fa-9692-27962e06050c"
      },
      "execution_count": 193,
      "outputs": [
        {
          "output_type": "stream",
          "name": "stdout",
          "text": [
            "0\n"
          ]
        }
      ]
    },
    {
      "cell_type": "code",
      "source": [
        "print(df.iloc[:, [i for i in range(len(df.columns)) if i not in [0, 6]]].duplicated().sum())"
      ],
      "metadata": {
        "colab": {
          "base_uri": "https://localhost:8080/"
        },
        "id": "YeeI3lvsCqy2",
        "outputId": "4834fea9-dc4f-4861-de56-3ab5d5e25bfa"
      },
      "execution_count": 194,
      "outputs": [
        {
          "output_type": "stream",
          "name": "stdout",
          "text": [
            "0\n"
          ]
        }
      ]
    },
    {
      "cell_type": "code",
      "source": [
        "print(df['nine_partition_label'].value_counts())\n",
        "# categorize skin conditions by 9"
      ],
      "metadata": {
        "colab": {
          "base_uri": "https://localhost:8080/"
        },
        "id": "_Mll82PQTAtv",
        "outputId": "4fea4357-d2f6-41d1-9f81-2d6ba1b9b54d"
      },
      "execution_count": 195,
      "outputs": [
        {
          "output_type": "stream",
          "name": "stdout",
          "text": [
            "inflammatory                    10886\n",
            "malignant epidermal              1352\n",
            "genodermatoses                   1194\n",
            "benign dermal                    1067\n",
            "benign epidermal                  931\n",
            "malignant melanoma                573\n",
            "benign melanocyte                 236\n",
            "malignant cutaneous lymphoma      182\n",
            "malignant dermal                  156\n",
            "Name: nine_partition_label, dtype: int64\n"
          ]
        }
      ]
    },
    {
      "cell_type": "code",
      "source": [
        "print(df['three_partition_label'].value_counts())\n",
        "# categorize skin conditions by 3"
      ],
      "metadata": {
        "colab": {
          "base_uri": "https://localhost:8080/"
        },
        "id": "OPs1HxwGTAvN",
        "outputId": "88aeb819-c6c1-42d8-d1b1-56cab315f930"
      },
      "execution_count": 196,
      "outputs": [
        {
          "output_type": "stream",
          "name": "stdout",
          "text": [
            "non-neoplastic    12080\n",
            "malignant          2263\n",
            "benign             2234\n",
            "Name: three_partition_label, dtype: int64\n"
          ]
        }
      ]
    },
    {
      "cell_type": "code",
      "source": [
        "# Get distributions of numerical columns"
      ],
      "metadata": {
        "id": "9DNQh-dAB3sV"
      },
      "execution_count": 197,
      "outputs": []
    },
    {
      "cell_type": "code",
      "source": [
        "# \"fitzpatrick_scale\" -> classification system used to categorize human skin color based on its response to sun exposure or UV light.\n",
        "# Scale is from 1 to 6. (-1) instances are missing values."
      ],
      "metadata": {
        "id": "1Cx4PbawBFbd"
      },
      "execution_count": 198,
      "outputs": []
    },
    {
      "cell_type": "code",
      "source": [
        "plt.figure(figsize=(6, 4))\n",
        "sns.countplot(data=df, x='fitzpatrick_scale')\n",
        "plt.title('Distribution of Fitzpatrick Scale')\n",
        "plt.xlabel('Fitzpatrick Scale')\n",
        "plt.ylabel('Count')\n",
        "plt.show()"
      ],
      "metadata": {
        "colab": {
          "base_uri": "https://localhost:8080/",
          "height": 410
        },
        "id": "qgU0jJKd-FaR",
        "outputId": "0a28dead-bee2-43f1-e6b8-69c1a1f76d1b"
      },
      "execution_count": 199,
      "outputs": [
        {
          "output_type": "display_data",
          "data": {
            "text/plain": [
              "<Figure size 600x400 with 1 Axes>"
            ],
            "image/png": "[encoded data removed]"
          },
          "metadata": {}
        }
      ]
    },
    {
      "cell_type": "code",
      "source": [
        "# Need to discuss what to do with these missing values!"
      ],
      "metadata": {
        "id": "Xke6XCefD7jC"
      },
      "execution_count": 200,
      "outputs": []
    },
    {
      "cell_type": "code",
      "source": [
        "missing_fitzscale = df[df['fitzpatrick_scale'] == -1]\n",
        "print(missing_fitzscale['fitzpatrick_centaur'].value_counts())\n",
        "\n",
        "# big correlation between missing values of fitz columns. The other values follow the\n",
        "# reference distribution, aka proportional to existing values."
      ],
      "metadata": {
        "colab": {
          "base_uri": "https://localhost:8080/"
        },
        "id": "JIJWuZsQSdr2",
        "outputId": "84c0859f-d16c-4019-a48e-60250d9392e4"
      },
      "execution_count": 201,
      "outputs": [
        {
          "output_type": "stream",
          "name": "stdout",
          "text": [
            "-1    291\n",
            " 2     87\n",
            " 1     75\n",
            " 4     34\n",
            " 3     33\n",
            " 5     31\n",
            " 6     14\n",
            "Name: fitzpatrick_centaur, dtype: int64\n"
          ]
        }
      ]
    },
    {
      "cell_type": "code",
      "source": [
        "print(missing_fitzscale['nine_partition_label'].value_counts())\n",
        "\n",
        "# Here is a bit off but not mutch."
      ],
      "metadata": {
        "colab": {
          "base_uri": "https://localhost:8080/"
        },
        "id": "pqjxZluATOVN",
        "outputId": "7de219d4-af02-4207-94e3-cc70eea18d20"
      },
      "execution_count": 202,
      "outputs": [
        {
          "output_type": "stream",
          "name": "stdout",
          "text": [
            "inflammatory                    359\n",
            "malignant epidermal              65\n",
            "benign dermal                    49\n",
            "genodermatoses                   29\n",
            "malignant melanoma               27\n",
            "benign epidermal                 22\n",
            "malignant cutaneous lymphoma      6\n",
            "malignant dermal                  5\n",
            "benign melanocyte                 3\n",
            "Name: nine_partition_label, dtype: int64\n"
          ]
        }
      ]
    },
    {
      "cell_type": "code",
      "source": [
        "print(missing_fitzscale['three_partition_label'].value_counts())\n",
        "\n",
        "# Also different."
      ],
      "metadata": {
        "colab": {
          "base_uri": "https://localhost:8080/"
        },
        "id": "2bq7rsURSduM",
        "outputId": "05b27ad5-9fa9-4d84-e402-c1a44e66b237"
      },
      "execution_count": 203,
      "outputs": [
        {
          "output_type": "stream",
          "name": "stdout",
          "text": [
            "non-neoplastic    388\n",
            "malignant         103\n",
            "benign             74\n",
            "Name: three_partition_label, dtype: int64\n"
          ]
        }
      ]
    },
    {
      "cell_type": "code",
      "source": [],
      "metadata": {
        "id": "inycGmR1Sdv_"
      },
      "execution_count": 203,
      "outputs": []
    },
    {
      "cell_type": "code",
      "source": [
        "# \"fitzpatrick_centaur\" -> don't know what this is. Most likely (-1) are also missing values."
      ],
      "metadata": {
        "id": "1i3JayajBboX"
      },
      "execution_count": 204,
      "outputs": []
    },
    {
      "cell_type": "code",
      "source": [
        "plt.figure(figsize=(6, 4))\n",
        "sns.countplot(data=df, x='fitzpatrick_centaur')\n",
        "plt.title('Distribution of Fitzpatrick Centaur')\n",
        "plt.xlabel('Fitzpatrick Centaur')\n",
        "plt.ylabel('Count')\n",
        "plt.show()"
      ],
      "metadata": {
        "colab": {
          "base_uri": "https://localhost:8080/",
          "height": 410
        },
        "id": "fZEDN7o--Fcf",
        "outputId": "4def79c7-ca02-4024-b1fa-ec39336d83f8"
      },
      "execution_count": 205,
      "outputs": [
        {
          "output_type": "display_data",
          "data": {
            "text/plain": [
              "<Figure size 600x400 with 1 Axes>"
            ],
            "image/png": "[encoded data removed]"
          },
          "metadata": {}
        }
      ]
    },
    {
      "cell_type": "code",
      "source": [
        "# Need to discuss what to do with these missing values!"
      ],
      "metadata": {
        "id": "bSl-DSs2D8Wy"
      },
      "execution_count": 206,
      "outputs": []
    },
    {
      "cell_type": "code",
      "source": [
        "missing_fitzcentaur = df[df['fitzpatrick_centaur'] == -1]\n",
        "print(missing_fitzcentaur['nine_partition_label'].value_counts())\n",
        "\n",
        "# Different from scale column."
      ],
      "metadata": {
        "id": "hQxj1t6k-Ff4",
        "colab": {
          "base_uri": "https://localhost:8080/"
        },
        "outputId": "c55bc38f-4225-4054-dfa4-bfc616d8cbcb"
      },
      "execution_count": 207,
      "outputs": [
        {
          "output_type": "stream",
          "name": "stdout",
          "text": [
            "inflammatory                    661\n",
            "benign dermal                   159\n",
            "malignant epidermal             122\n",
            "benign epidermal                 52\n",
            "malignant melanoma               31\n",
            "genodermatoses                   26\n",
            "malignant dermal                 11\n",
            "benign melanocyte                10\n",
            "malignant cutaneous lymphoma      1\n",
            "Name: nine_partition_label, dtype: int64\n"
          ]
        }
      ]
    },
    {
      "cell_type": "code",
      "source": [
        "print(missing_fitzcentaur['three_partition_label'].value_counts())"
      ],
      "metadata": {
        "id": "VvN5MmlfCzi0",
        "colab": {
          "base_uri": "https://localhost:8080/"
        },
        "outputId": "6edd7745-375d-4acf-f66e-d6b131c83462"
      },
      "execution_count": 208,
      "outputs": [
        {
          "output_type": "stream",
          "name": "stdout",
          "text": [
            "non-neoplastic    687\n",
            "benign            221\n",
            "malignant         165\n",
            "Name: three_partition_label, dtype: int64\n"
          ]
        }
      ]
    },
    {
      "cell_type": "code",
      "source": [
        "# Now let's apply one hot encoding for categorical variables"
      ],
      "metadata": {
        "id": "mh9BZm5cCzlU"
      },
      "execution_count": 209,
      "outputs": []
    },
    {
      "cell_type": "code",
      "source": [
        "one_hot_encode = [\"label\", \"nine_partition_label\", \"three_partition_label\"]\n",
        "\n",
        "new_df = pd.get_dummies(df, columns=one_hot_encode)"
      ],
      "metadata": {
        "id": "HnfErMLXCzsq"
      },
      "execution_count": 210,
      "outputs": []
    },
    {
      "cell_type": "code",
      "source": [
        "new_df.head()"
      ],
      "metadata": {
        "id": "2Hn-QGjp-FhV",
        "colab": {
          "base_uri": "https://localhost:8080/",
          "height": 325
        },
        "outputId": "c2f14f16-ee69-4a34-811b-82d6abd26e36"
      },
      "execution_count": 211,
      "outputs": [
        {
          "output_type": "execute_result",
          "data": {
            "text/plain": [
              "   fitzpatrick_scale  fitzpatrick_centaur   qc  \\\n",
              "0                  3                    3  NaN   \n",
              "1                  1                    1  NaN   \n",
              "2                  2                    3  NaN   \n",
              "3                  1                    1  NaN   \n",
              "4                  1                    1  NaN   \n",
              "\n",
              "                                                 url  \\\n",
              "0  https://www.dermaamin.com/site/images/clinical...   \n",
              "1  https://www.dermaamin.com/site/images/clinical...   \n",
              "2  https://www.dermaamin.com/site/images/clinical...   \n",
              "3  https://www.dermaamin.com/site/images/clinical...   \n",
              "4  https://www.dermaamin.com/site/images/clinical...   \n",
              "\n",
              "                                        url_alphanum  \\\n",
              "0  httpwwwdermaamincomsiteimagesclinicalpicmminoc...   \n",
              "1  httpwwwdermaamincomsiteimagesclinicalpicpphoto...   \n",
              "2  httpwwwdermaamincomsiteimagesclinicalpicdderma...   \n",
              "3  httpwwwdermaamincomsiteimagesclinicalpicppsori...   \n",
              "4  httpwwwdermaamincomsiteimagesclinicalpicppsori...   \n",
              "\n",
              "   label_acanthosis nigricans  label_acne  label_acne vulgaris  \\\n",
              "0                           0           0                    0   \n",
              "1                           0           0                    0   \n",
              "2                           0           0                    0   \n",
              "3                           0           0                    0   \n",
              "4                           0           0                    0   \n",
              "\n",
              "   label_acquired autoimmune bullous diseaseherpes gestationis  \\\n",
              "0                                                  0             \n",
              "1                                                  0             \n",
              "2                                                  0             \n",
              "3                                                  0             \n",
              "4                                                  0             \n",
              "\n",
              "   label_acrodermatitis enteropathica  ...  \\\n",
              "0                                   0  ...   \n",
              "1                                   0  ...   \n",
              "2                                   0  ...   \n",
              "3                                   0  ...   \n",
              "4                                   0  ...   \n",
              "\n",
              "   nine_partition_label_benign melanocyte  \\\n",
              "0                                       0   \n",
              "1                                       0   \n",
              "2                                       0   \n",
              "3                                       0   \n",
              "4                                       0   \n",
              "\n",
              "   nine_partition_label_genodermatoses  nine_partition_label_inflammatory  \\\n",
              "0                                    0                                  1   \n",
              "1                                    0                                  1   \n",
              "2                                    0                                  0   \n",
              "3                                    0                                  1   \n",
              "4                                    0                                  1   \n",
              "\n",
              "   nine_partition_label_malignant cutaneous lymphoma  \\\n",
              "0                                                  0   \n",
              "1                                                  0   \n",
              "2                                                  0   \n",
              "3                                                  0   \n",
              "4                                                  0   \n",
              "\n",
              "   nine_partition_label_malignant dermal  \\\n",
              "0                                      0   \n",
              "1                                      0   \n",
              "2                                      0   \n",
              "3                                      0   \n",
              "4                                      0   \n",
              "\n",
              "   nine_partition_label_malignant epidermal  \\\n",
              "0                                         0   \n",
              "1                                         0   \n",
              "2                                         0   \n",
              "3                                         0   \n",
              "4                                         0   \n",
              "\n",
              "   nine_partition_label_malignant melanoma  three_partition_label_benign  \\\n",
              "0                                        0                             0   \n",
              "1                                        0                             0   \n",
              "2                                        0                             1   \n",
              "3                                        0                             0   \n",
              "4                                        0                             0   \n",
              "\n",
              "   three_partition_label_malignant  three_partition_label_non-neoplastic  \n",
              "0                                0                                     1  \n",
              "1                                0                                     1  \n",
              "2                                0                                     0  \n",
              "3                                0                                     1  \n",
              "4                                0                                     1  \n",
              "\n",
              "[5 rows x 131 columns]"
            ],
            "text/html": [
              "\n",
              "  <div id=\"df-e9f95c81-4af3-43f3-a5f5-250d4c9728c8\" class=\"colab-df-container\">\n",
              "    <div>\n",
              "<style scoped>\n",
              "    .dataframe tbody tr th:only-of-type {\n",
              "        vertical-align: middle;\n",
              "    }\n",
              "\n",
              "    .dataframe tbody tr th {\n",
              "        vertical-align: top;\n",
              "    }\n",
              "\n",
              "    .dataframe thead th {\n",
              "        text-align: right;\n",
              "    }\n",
              "</style>\n",
              "<table border=\"1\" class=\"dataframe\">\n",
              "  <thead>\n",
              "    <tr style=\"text-align: right;\">\n",
              "      <th></th>\n",
              "      <th>fitzpatrick_scale</th>\n",
              "      <th>fitzpatrick_centaur</th>\n",
              "      <th>qc</th>\n",
              "      <th>url</th>\n",
              "      <th>url_alphanum</th>\n",
              "      <th>label_acanthosis nigricans</th>\n",
              "      <th>label_acne</th>\n",
              "      <th>label_acne vulgaris</th>\n",
              "      <th>label_acquired autoimmune bullous diseaseherpes gestationis</th>\n",
              "      <th>label_acrodermatitis enteropathica</th>\n",
              "      <th>...</th>\n",
              "      <th>nine_partition_label_benign melanocyte</th>\n",
              "      <th>nine_partition_label_genodermatoses</th>\n",
              "      <th>nine_partition_label_inflammatory</th>\n",
              "      <th>nine_partition_label_malignant cutaneous lymphoma</th>\n",
              "      <th>nine_partition_label_malignant dermal</th>\n",
              "      <th>nine_partition_label_malignant epidermal</th>\n",
              "      <th>nine_partition_label_malignant melanoma</th>\n",
              "      <th>three_partition_label_benign</th>\n",
              "      <th>three_partition_label_malignant</th>\n",
              "      <th>three_partition_label_non-neoplastic</th>\n",
              "    </tr>\n",
              "  </thead>\n",
              "  <tbody>\n",
              "    <tr>\n",
              "      <th>0</th>\n",
              "      <td>3</td>\n",
              "      <td>3</td>\n",
              "      <td>NaN</td>\n",
              "      <td>https://www.dermaamin.com/site/images/clinical...</td>\n",
              "      <td>httpwwwdermaamincomsiteimagesclinicalpicmminoc...</td>\n",
              "      <td>0</td>\n",
              "      <td>0</td>\n",
              "      <td>0</td>\n",
              "      <td>0</td>\n",
              "      <td>0</td>\n",
              "      <td>...</td>\n",
              "      <td>0</td>\n",
              "      <td>0</td>\n",
              "      <td>1</td>\n",
              "      <td>0</td>\n",
              "      <td>0</td>\n",
              "      <td>0</td>\n",
              "      <td>0</td>\n",
              "      <td>0</td>\n",
              "      <td>0</td>\n",
              "      <td>1</td>\n",
              "    </tr>\n",
              "    <tr>\n",
              "      <th>1</th>\n",
              "      <td>1</td>\n",
              "      <td>1</td>\n",
              "      <td>NaN</td>\n",
              "      <td>https://www.dermaamin.com/site/images/clinical...</td>\n",
              "      <td>httpwwwdermaamincomsiteimagesclinicalpicpphoto...</td>\n",
              "      <td>0</td>\n",
              "      <td>0</td>\n",
              "      <td>0</td>\n",
              "      <td>0</td>\n",
              "      <td>0</td>\n",
              "      <td>...</td>\n",
              "      <td>0</td>\n",
              "      <td>0</td>\n",
              "      <td>1</td>\n",
              "      <td>0</td>\n",
              "      <td>0</td>\n",
              "      <td>0</td>\n",
              "      <td>0</td>\n",
              "      <td>0</td>\n",
              "      <td>0</td>\n",
              "      <td>1</td>\n",
              "    </tr>\n",
              "    <tr>\n",
              "      <th>2</th>\n",
              "      <td>2</td>\n",
              "      <td>3</td>\n",
              "      <td>NaN</td>\n",
              "      <td>https://www.dermaamin.com/site/images/clinical...</td>\n",
              "      <td>httpwwwdermaamincomsiteimagesclinicalpicdderma...</td>\n",
              "      <td>0</td>\n",
              "      <td>0</td>\n",
              "      <td>0</td>\n",
              "      <td>0</td>\n",
              "      <td>0</td>\n",
              "      <td>...</td>\n",
              "      <td>0</td>\n",
              "      <td>0</td>\n",
              "      <td>0</td>\n",
              "      <td>0</td>\n",
              "      <td>0</td>\n",
              "      <td>0</td>\n",
              "      <td>0</td>\n",
              "      <td>1</td>\n",
              "      <td>0</td>\n",
              "      <td>0</td>\n",
              "    </tr>\n",
              "    <tr>\n",
              "      <th>3</th>\n",
              "      <td>1</td>\n",
              "      <td>1</td>\n",
              "      <td>NaN</td>\n",
              "      <td>https://www.dermaamin.com/site/images/clinical...</td>\n",
              "      <td>httpwwwdermaamincomsiteimagesclinicalpicppsori...</td>\n",
              "      <td>0</td>\n",
              "      <td>0</td>\n",
              "      <td>0</td>\n",
              "      <td>0</td>\n",
              "      <td>0</td>\n",
              "      <td>...</td>\n",
              "      <td>0</td>\n",
              "      <td>0</td>\n",
              "      <td>1</td>\n",
              "      <td>0</td>\n",
              "      <td>0</td>\n",
              "      <td>0</td>\n",
              "      <td>0</td>\n",
              "      <td>0</td>\n",
              "      <td>0</td>\n",
              "      <td>1</td>\n",
              "    </tr>\n",
              "    <tr>\n",
              "      <th>4</th>\n",
              "      <td>1</td>\n",
              "      <td>1</td>\n",
              "      <td>NaN</td>\n",
              "      <td>https://www.dermaamin.com/site/images/clinical...</td>\n",
              "      <td>httpwwwdermaamincomsiteimagesclinicalpicppsori...</td>\n",
              "      <td>0</td>\n",
              "      <td>0</td>\n",
              "      <td>0</td>\n",
              "      <td>0</td>\n",
              "      <td>0</td>\n",
              "      <td>...</td>\n",
              "      <td>0</td>\n",
              "      <td>0</td>\n",
              "      <td>1</td>\n",
              "      <td>0</td>\n",
              "      <td>0</td>\n",
              "      <td>0</td>\n",
              "      <td>0</td>\n",
              "      <td>0</td>\n",
              "      <td>0</td>\n",
              "      <td>1</td>\n",
              "    </tr>\n",
              "  </tbody>\n",
              "</table>\n",
              "<p>5 rows × 131 columns</p>\n",
              "</div>\n",
              "    <div class=\"colab-df-buttons\">\n",
              "\n",
              "  <div class=\"colab-df-container\">\n",
              "    <button class=\"colab-df-convert\" onclick=\"convertToInteractive('df-e9f95c81-4af3-43f3-a5f5-250d4c9728c8')\"\n",
              "            title=\"Convert this dataframe to an interactive table.\"\n",
              "            style=\"display:none;\">\n",
              "\n",
              "  <svg xmlns=\"http://www.w3.org/2000/svg\" height=\"24px\" viewBox=\"0 -960 960 960\">\n",
              "    <path d=\"M120-120v-720h720v720H120Zm60-500h600v-160H180v160Zm220 220h160v-160H400v160Zm0 220h160v-160H400v160ZM180-400h160v-160H180v160Zm440 0h160v-160H620v160ZM180-180h160v-160H180v160Zm440 0h160v-160H620v160Z\"/>\n",
              "  </svg>\n",
              "    </button>\n",
              "\n",
              "  <style>\n",
              "    .colab-df-container {\n",
              "      display:flex;\n",
              "      gap: 12px;\n",
              "    }\n",
              "\n",
              "    .colab-df-convert {\n",
              "      background-color: #E8F0FE;\n",
              "      border: none;\n",
              "      border-radius: 50%;\n",
              "      cursor: pointer;\n",
              "      display: none;\n",
              "      fill: #1967D2;\n",
              "      height: 32px;\n",
              "      padding: 0 0 0 0;\n",
              "      width: 32px;\n",
              "    }\n",
              "\n",
              "    .colab-df-convert:hover {\n",
              "      background-color: #E2EBFA;\n",
              "      box-shadow: 0px 1px 2px rgba(60, 64, 67, 0.3), 0px 1px 3px 1px rgba(60, 64, 67, 0.15);\n",
              "      fill: #174EA6;\n",
              "    }\n",
              "\n",
              "    .colab-df-buttons div {\n",
              "      margin-bottom: 4px;\n",
              "    }\n",
              "\n",
              "    [theme=dark] .colab-df-convert {\n",
              "      background-color: #3B4455;\n",
              "      fill: #D2E3FC;\n",
              "    }\n",
              "\n",
              "    [theme=dark] .colab-df-convert:hover {\n",
              "      background-color: #434B5C;\n",
              "      box-shadow: 0px 1px 3px 1px rgba(0, 0, 0, 0.15);\n",
              "      filter: drop-shadow(0px 1px 2px rgba(0, 0, 0, 0.3));\n",
              "      fill: #FFFFFF;\n",
              "    }\n",
              "  </style>\n",
              "\n",
              "    <script>\n",
              "      const buttonEl =\n",
              "        document.querySelector('#df-e9f95c81-4af3-43f3-a5f5-250d4c9728c8 button.colab-df-convert');\n",
              "      buttonEl.style.display =\n",
              "        google.colab.kernel.accessAllowed ? 'block' : 'none';\n",
              "\n",
              "      async function convertToInteractive(key) {\n",
              "        const element = document.querySelector('#df-e9f95c81-4af3-43f3-a5f5-250d4c9728c8');\n",
              "        const dataTable =\n",
              "          await google.colab.kernel.invokeFunction('convertToInteractive',\n",
              "                                                    [key], {});\n",
              "        if (!dataTable) return;\n",
              "\n",
              "        const docLinkHtml = 'Like what you see? Visit the ' +\n",
              "          '<a target=\"_blank\" href=https://colab.research.google.com/notebooks/data_table.ipynb>data table notebook</a>'\n",
              "          + ' to learn more about interactive tables.';\n",
              "        element.innerHTML = '';\n",
              "        dataTable['output_type'] = 'display_data';\n",
              "        await google.colab.output.renderOutput(dataTable, element);\n",
              "        const docLink = document.createElement('div');\n",
              "        docLink.innerHTML = docLinkHtml;\n",
              "        element.appendChild(docLink);\n",
              "      }\n",
              "    </script>\n",
              "  </div>\n",
              "\n",
              "\n",
              "<div id=\"df-948425d8-76a5-472e-b731-55597cecb323\">\n",
              "  <button class=\"colab-df-quickchart\" onclick=\"quickchart('df-948425d8-76a5-472e-b731-55597cecb323')\"\n",
              "            title=\"Suggest charts\"\n",
              "            style=\"display:none;\">\n",
              "\n",
              "<svg xmlns=\"http://www.w3.org/2000/svg\" height=\"24px\"viewBox=\"0 0 24 24\"\n",
              "     width=\"24px\">\n",
              "    <g>\n",
              "        <path d=\"M19 3H5c-1.1 0-2 .9-2 2v14c0 1.1.9 2 2 2h14c1.1 0 2-.9 2-2V5c0-1.1-.9-2-2-2zM9 17H7v-7h2v7zm4 0h-2V7h2v10zm4 0h-2v-4h2v4z\"/>\n",
              "    </g>\n",
              "</svg>\n",
              "  </button>\n",
              "\n",
              "<style>\n",
              "  .colab-df-quickchart {\n",
              "      --bg-color: #E8F0FE;\n",
              "      --fill-color: #1967D2;\n",
              "      --hover-bg-color: #E2EBFA;\n",
              "      --hover-fill-color: #174EA6;\n",
              "      --disabled-fill-color: #AAA;\n",
              "      --disabled-bg-color: #DDD;\n",
              "  }\n",
              "\n",
              "  [theme=dark] .colab-df-quickchart {\n",
              "      --bg-color: #3B4455;\n",
              "      --fill-color: #D2E3FC;\n",
              "      --hover-bg-color: #434B5C;\n",
              "      --hover-fill-color: #FFFFFF;\n",
              "      --disabled-bg-color: #3B4455;\n",
              "      --disabled-fill-color: #666;\n",
              "  }\n",
              "\n",
              "  .colab-df-quickchart {\n",
              "    background-color: var(--bg-color);\n",
              "    border: none;\n",
              "    border-radius: 50%;\n",
              "    cursor: pointer;\n",
              "    display: none;\n",
              "    fill: var(--fill-color);\n",
              "    height: 32px;\n",
              "    padding: 0;\n",
              "    width: 32px;\n",
              "  }\n",
              "\n",
              "  .colab-df-quickchart:hover {\n",
              "    background-color: var(--hover-bg-color);\n",
              "    box-shadow: 0 1px 2px rgba(60, 64, 67, 0.3), 0 1px 3px 1px rgba(60, 64, 67, 0.15);\n",
              "    fill: var(--button-hover-fill-color);\n",
              "  }\n",
              "\n",
              "  .colab-df-quickchart-complete:disabled,\n",
              "  .colab-df-quickchart-complete:disabled:hover {\n",
              "    background-color: var(--disabled-bg-color);\n",
              "    fill: var(--disabled-fill-color);\n",
              "    box-shadow: none;\n",
              "  }\n",
              "\n",
              "  .colab-df-spinner {\n",
              "    border: 2px solid var(--fill-color);\n",
              "    border-color: transparent;\n",
              "    border-bottom-color: var(--fill-color);\n",
              "    animation:\n",
              "      spin 1s steps(1) infinite;\n",
              "  }\n",
              "\n",
              "  @keyframes spin {\n",
              "    0% {\n",
              "      border-color: transparent;\n",
              "      border-bottom-color: var(--fill-color);\n",
              "      border-left-color: var(--fill-color);\n",
              "    }\n",
              "    20% {\n",
              "      border-color: transparent;\n",
              "      border-left-color: var(--fill-color);\n",
              "      border-top-color: var(--fill-color);\n",
              "    }\n",
              "    30% {\n",
              "      border-color: transparent;\n",
              "      border-left-color: var(--fill-color);\n",
              "      border-top-color: var(--fill-color);\n",
              "      border-right-color: var(--fill-color);\n",
              "    }\n",
              "    40% {\n",
              "      border-color: transparent;\n",
              "      border-right-color: var(--fill-color);\n",
              "      border-top-color: var(--fill-color);\n",
              "    }\n",
              "    60% {\n",
              "      border-color: transparent;\n",
              "      border-right-color: var(--fill-color);\n",
              "    }\n",
              "    80% {\n",
              "      border-color: transparent;\n",
              "      border-right-color: var(--fill-color);\n",
              "      border-bottom-color: var(--fill-color);\n",
              "    }\n",
              "    90% {\n",
              "      border-color: transparent;\n",
              "      border-bottom-color: var(--fill-color);\n",
              "    }\n",
              "  }\n",
              "</style>\n",
              "\n",
              "  <script>\n",
              "    async function quickchart(key) {\n",
              "      const quickchartButtonEl =\n",
              "        document.querySelector('#' + key + ' button');\n",
              "      quickchartButtonEl.disabled = true;  // To prevent multiple clicks.\n",
              "      quickchartButtonEl.classList.add('colab-df-spinner');\n",
              "      try {\n",
              "        const charts = await google.colab.kernel.invokeFunction(\n",
              "            'suggestCharts', [key], {});\n",
              "      } catch (error) {\n",
              "        console.error('Error during call to suggestCharts:', error);\n",
              "      }\n",
              "      quickchartButtonEl.classList.remove('colab-df-spinner');\n",
              "      quickchartButtonEl.classList.add('colab-df-quickchart-complete');\n",
              "    }\n",
              "    (() => {\n",
              "      let quickchartButtonEl =\n",
              "        document.querySelector('#df-948425d8-76a5-472e-b731-55597cecb323 button');\n",
              "      quickchartButtonEl.style.display =\n",
              "        google.colab.kernel.accessAllowed ? 'block' : 'none';\n",
              "    })();\n",
              "  </script>\n",
              "</div>\n",
              "    </div>\n",
              "  </div>\n"
            ],
            "application/vnd.google.colaboratory.intrinsic+json": {
              "type": "dataframe",
              "variable_name": "new_df"
            }
          },
          "metadata": {},
          "execution_count": 211
        }
      ]
    },
    {
      "cell_type": "code",
      "source": [
        "new_df.shape"
      ],
      "metadata": {
        "colab": {
          "base_uri": "https://localhost:8080/"
        },
        "id": "GJ8_FXGig8hC",
        "outputId": "6f2cb3dd-5b88-4f36-e98c-ae8231b56df2"
      },
      "execution_count": 212,
      "outputs": [
        {
          "output_type": "execute_result",
          "data": {
            "text/plain": [
              "(16577, 131)"
            ]
          },
          "metadata": {},
          "execution_count": 212
        }
      ]
    },
    {
      "cell_type": "code",
      "source": [
        "# This will give problems later on for sure but for now keep it like this. To apply CNN needs to be one hot encoded."
      ],
      "metadata": {
        "id": "B40TQjKkhIIm"
      },
      "execution_count": 213,
      "outputs": []
    },
    {
      "cell_type": "code",
      "source": [
        "# Need to see if column \"qc\" is built in a certain specific way that makes sense. If not almost everything is missing values so it\n",
        "# will be worse to keep it I think. Delete for now:"
      ],
      "metadata": {
        "id": "RUYRWTPLhIOR"
      },
      "execution_count": 214,
      "outputs": []
    },
    {
      "cell_type": "code",
      "source": [
        "new_df.drop(columns=['qc'], inplace=True)"
      ],
      "metadata": {
        "id": "jNAnKX51h5X6"
      },
      "execution_count": 215,
      "outputs": []
    },
    {
      "cell_type": "code",
      "source": [
        "# Let's deal with the missing values in url. url_alphanum doesn't have any."
      ],
      "metadata": {
        "id": "qIATRZBbh9tz"
      },
      "execution_count": 216,
      "outputs": []
    },
    {
      "cell_type": "code",
      "source": [
        "new_df['url'].fillna(df['url_alphanum'], inplace=True)"
      ],
      "metadata": {
        "id": "pyRtkWClh9zA"
      },
      "execution_count": 217,
      "outputs": []
    },
    {
      "cell_type": "code",
      "source": [
        "print(new_df['url'].isnull().sum())"
      ],
      "metadata": {
        "colab": {
          "base_uri": "https://localhost:8080/"
        },
        "id": "aCnCKX6rh91j",
        "outputId": "bc7d81e7-aef8-4984-9141-4ee0f52c32f2"
      },
      "execution_count": 218,
      "outputs": [
        {
          "output_type": "stream",
          "name": "stdout",
          "text": [
            "0\n"
          ]
        }
      ]
    },
    {
      "cell_type": "code",
      "source": [
        "\n",
        "\n",
        "# Filter rows where 'url' column has been filled with values from 'url_alphanum'\n",
        "filled_rows = new_df['url'] == new_df['url_alphanum']\n",
        "print(new_df.loc[filled_rows, 'url'])"
      ],
      "metadata": {
        "id": "Fkf1eKA7GsBd",
        "outputId": "38eb35f9-5875-4307-e0ff-2bf94193eb08",
        "colab": {
          "base_uri": "https://localhost:8080/"
        }
      },
      "execution_count": 219,
      "outputs": [
        {
          "output_type": "stream",
          "name": "stdout",
          "text": [
            "145      httpwwwdermaamincomsiteimagesclinicalpicLLiche...\n",
            "349      httpwwwdermaamincomsiteimagesclinicalpicooralm...\n",
            "535      httpwwwdermaamincomsiteimagesclinicalpicLLiche...\n",
            "868      httpwwwdermaamincomsiteimagesclinicalpicLLiche...\n",
            "879      httpwwwdermaamincomsiteimagesclinicalpicooralm...\n",
            "918      httpwwwdermaamincomsiteimagesclinicalpicLLiche...\n",
            "1322     httpwwwdermaamincomsiteimagesclinicalpicLLiche...\n",
            "1958     httpwwwdermaamincomsiteimageshistopicjjunction...\n",
            "1972     httpwwwdermaamincomsiteimagesclinicalpicLLiche...\n",
            "2078     httpwwwdermaamincomsiteimagesclinicalpicLLiche...\n",
            "2519     httpwwwdermaamincomsiteimagesclinicalpicLLiche...\n",
            "3601     httpwwwdermaamincomsiteimagesclinicalpicLLiche...\n",
            "3672     httpwwwdermaamincomsiteimagesclinicalpicLLiche...\n",
            "4267     httpwwwdermaamincomsiteimagesclinicalpicLLiche...\n",
            "4426     httpwwwdermaamincomsiteimagesclinicalpicLLiche...\n",
            "4795     httpwwwdermaamincomsiteimagesclinicalpicLLiche...\n",
            "5410     httpwwwdermaamincomsiteimagesclinicalpicLLiche...\n",
            "5432     httpwwwdermaamincomsiteimagesclinicalpicLLiche...\n",
            "5787     httpwwwdermaamincomsiteimagesclinicalpicLLiche...\n",
            "6201     httpwwwdermaamincomsiteimagesclinicalpicLLiche...\n",
            "7265     httpwwwdermaamincomsiteimagesclinicalpicLLiche...\n",
            "7328     httpwwwdermaamincomsiteimagesclinicalpicLLiche...\n",
            "7444     httpwwwdermaamincomsiteimagesclinicalpicLLiche...\n",
            "7618     httpwwwdermaamincomsiteimagesclinicalpicLLiche...\n",
            "7790     httpwwwdermaamincomsiteimagesclinicalpicLLiche...\n",
            "8887     httpwwwdermaamincomsiteimagesclinicalpicLLiche...\n",
            "9126     httpwwwdermaamincomsiteimagesclinicalpicLLiche...\n",
            "9572     httpwwwdermaamincomsiteimagesclinicalpicLLiche...\n",
            "9684     httpwwwdermaamincomsiteimagesclinicalpicooralm...\n",
            "9931     httpwwwdermaamincomsiteimagesclinicalpicLLiche...\n",
            "9965     httpwwwdermaamincomsiteimagesclinicalpicLLiche...\n",
            "10585    httpwwwdermaamincomsiteimagesclinicalpicLLiche...\n",
            "10912    httpwwwdermaamincomsiteimagesclinicalpicLLiche...\n",
            "10983    httpwwwdermaamincomsiteimagesclinicalpicLLiche...\n",
            "11123    httpwwwdermaamincomsiteimagesclinicalpicLLiche...\n",
            "11787    httpwwwdermaamincomsiteimagesclinicalpicLLiche...\n",
            "11911    httpwwwdermaamincomsiteimageshistopicjjunction...\n",
            "12156    httpwwwdermaamincomsiteimagesclinicalpicLLiche...\n",
            "12192    httpwwwdermaamincomsiteimageshistopicjjunction...\n",
            "12425    httpwwwdermaamincomsiteimagesclinicalpicLLiche...\n",
            "12535    httpwwwdermaamincomsiteimagesclinicalpicLLiche...\n",
            "Name: url, dtype: object\n"
          ]
        }
      ]
    },
    {
      "cell_type": "code",
      "source": [
        "# Define the function to convert the URL\n",
        "def convert_url(url):\n",
        "    url = url.replace(\"httpwwwdermaamincom\", \"https://www.dermaamin.com\")\n",
        "    url = url.replace(\"siteimages\", \"site/images/\")\n",
        "    url = url.replace(\"clinicalpicLLichensimplexchronicusLichensimplexchronicus\", \"clinical-pic/l/lichensimplexchronicus/lichensimplexchronicus\")\n",
        "    url = url.replace(\"site/images/l/\", \"site/images/\")\n",
        "    url = url.replace(\"jpg.jpg\", \".jpg\")\n",
        "    url = url.replace(\"jpg\", \"jpg\")\n",
        "    url = url.replace(\"com\", \"com/\")\n",
        "    return url\n",
        "\n",
        "# Apply the conversion function to the filtered rows\n",
        "df_3 = new_df.copy()  # Create a copy of the DataFrame to avoid modifying the original\n",
        "df_3.loc[filled_rows, 'url'] = df_3.loc[filled_rows, 'url'].apply(convert_url)\n",
        "\n",
        "# Print the modified 'url' column\n",
        "print(df_3.loc[filled_rows, 'url'])"
      ],
      "metadata": {
        "id": "hCnD8oa-GsC4",
        "outputId": "25663a8b-2519-4e5d-97c0-27104d936383",
        "colab": {
          "base_uri": "https://localhost:8080/"
        }
      },
      "execution_count": 220,
      "outputs": [
        {
          "output_type": "stream",
          "name": "stdout",
          "text": [
            "145      https://www.dermaamin.com/site/images/clinical...\n",
            "349      https://www.dermaamin.com/site/images/clinical...\n",
            "535      https://www.dermaamin.com/site/images/clinical...\n",
            "868      https://www.dermaamin.com/site/images/clinical...\n",
            "879      https://www.dermaamin.com/site/images/clinical...\n",
            "918      https://www.dermaamin.com/site/images/clinical...\n",
            "1322     https://www.dermaamin.com/site/images/clinical...\n",
            "1958     https://www.dermaamin.com/site/images/histopic...\n",
            "1972     https://www.dermaamin.com/site/images/clinical...\n",
            "2078     https://www.dermaamin.com/site/images/clinical...\n",
            "2519     https://www.dermaamin.com/site/images/clinical...\n",
            "3601     https://www.dermaamin.com/site/images/clinical...\n",
            "3672     https://www.dermaamin.com/site/images/clinical...\n",
            "4267     https://www.dermaamin.com/site/images/clinical...\n",
            "4426     https://www.dermaamin.com/site/images/clinical...\n",
            "4795     https://www.dermaamin.com/site/images/clinical...\n",
            "5410     https://www.dermaamin.com/site/images/clinical...\n",
            "5432     https://www.dermaamin.com/site/images/clinical...\n",
            "5787     https://www.dermaamin.com/site/images/clinical...\n",
            "6201     https://www.dermaamin.com/site/images/clinical...\n",
            "7265     https://www.dermaamin.com/site/images/clinical...\n",
            "7328     https://www.dermaamin.com/site/images/clinical...\n",
            "7444     https://www.dermaamin.com/site/images/clinical...\n",
            "7618     https://www.dermaamin.com/site/images/clinical...\n",
            "7790     https://www.dermaamin.com/site/images/clinical...\n",
            "8887     https://www.dermaamin.com/site/images/clinical...\n",
            "9126     https://www.dermaamin.com/site/images/clinical...\n",
            "9572     https://www.dermaamin.com/site/images/clinical...\n",
            "9684     https://www.dermaamin.com/site/images/clinical...\n",
            "9931     https://www.dermaamin.com/site/images/clinical...\n",
            "9965     https://www.dermaamin.com/site/images/clinical...\n",
            "10585    https://www.dermaamin.com/site/images/clinical...\n",
            "10912    https://www.dermaamin.com/site/images/clinical...\n",
            "10983    https://www.dermaamin.com/site/images/clinical...\n",
            "11123    https://www.dermaamin.com/site/images/clinical...\n",
            "11787    https://www.dermaamin.com/site/images/clinical...\n",
            "11911    https://www.dermaamin.com/site/images/histopic...\n",
            "12156    https://www.dermaamin.com/site/images/clinical...\n",
            "12192    https://www.dermaamin.com/site/images/histopic...\n",
            "12425    https://www.dermaamin.com/site/images/clinical...\n",
            "12535    https://www.dermaamin.com/site/images/clinical...\n",
            "Name: url, dtype: object\n"
          ]
        }
      ]
    },
    {
      "cell_type": "code",
      "source": [
        "def download_image(image_url, file_place):\n",
        "    \"\"\"\n",
        "    Downloads images from URLs.\n",
        "\n",
        "    Inputs:\n",
        "        image_url(str): URL of the image to download.\n",
        "        file_place(str): Path where the downloaded image will be saved.\n",
        "\n",
        "    Outputs:\n",
        "        None.\n",
        "    \"\"\"\n",
        "    # Step 1: Send a GET request to the provided image URL\n",
        "    res = requests.get(image_url, stream=True, headers={'User-Agent': \"Mozilla/5.0 (Macintosh; Intel Mac OS X 10_15_7) AppleWebKit/537.36 (KHTML, like Gecko) Chrome/108.0.0.0 Safari/537.36\"})\n",
        "\n",
        "    # Step 2: Check if the request was successful (HTTP status code 200)\n",
        "    if res.status_code == 200:\n",
        "        # Step 3: If successful, open the file at the specified location in binary write mode\n",
        "        with open(file_place, 'wb') as f:\n",
        "          shutil.copyfileobj(res.raw, f) # Step 4: Copy the content of the response to the file\n",
        "        # Step 5: Print the status of the download\n",
        "\n",
        "    else:\n",
        "        print(\"Image coulnd't be retrieved\")"
      ],
      "metadata": {
        "id": "8-3M2CyXjPTc"
      },
      "execution_count": 221,
      "outputs": []
    },
    {
      "cell_type": "code",
      "source": [
        "# Download locally so that you don't have to download everything every time you leave."
      ],
      "metadata": {
        "id": "ULKRDAFoqjeD"
      },
      "execution_count": 222,
      "outputs": []
    },
    {
      "cell_type": "code",
      "source": [
        "def download_image(image_url, file_place):\n",
        "    \"\"\"\n",
        "    Downloads images from URLs.\n",
        "\n",
        "    Inputs:\n",
        "        image_url(str): URL of the image to download.\n",
        "        file_place(str): Path where the downloaded image will be saved.\n",
        "\n",
        "    Outputs:\n",
        "        None.\n",
        "    \"\"\"\n",
        "    try:\n",
        "        # Create the output directory if it doesn't exist\n",
        "        os.makedirs(os.path.dirname(file_place), exist_ok=True)\n",
        "\n",
        "        # Send a GET request to the provided image URL\n",
        "        res = requests.get(image_url, stream=True, headers={'User-Agent': \"Mozilla/5.0 (Macintosh; Intel Mac OS X 10_15_7) AppleWebKit/537.36 (KHTML, like Gecko) Chrome/108.0.0.0 Safari/537.36\"})\n",
        "\n",
        "        # Check if the request was successful (HTTP status code 200)\n",
        "        if res.status_code == 200:\n",
        "            # Open the file at the specified location in binary write mode\n",
        "            with open(file_place, 'wb') as f:\n",
        "                shutil.copyfileobj(res.raw, f)  # Copy the content of the response to the file\n",
        "\n",
        "        else:\n",
        "            print(f\"Failed to download image from {image_url}\")\n",
        "    except Exception as e:\n",
        "        print(f\"Error downloading image from {image_url}: {e}\")"
      ],
      "metadata": {
        "id": "jx51LbE5GZR7"
      },
      "execution_count": 225,
      "outputs": []
    },
    {
      "cell_type": "code",
      "source": [
        "\n",
        "# Assuming df_3 is your DataFrame containing image URLs\n",
        "url_column_name = 'url'\n",
        "output_folder = 'images_DL'  # folder where to save downloaded images\n",
        "download_images_from_csv(df_3, url_column_name, output_folder)"
      ],
      "metadata": {
        "colab": {
          "base_uri": "https://localhost:8080/"
        },
        "id": "34k2_FFiluZL",
        "outputId": "56184276-f58e-4ba1-bddb-3678ba8d073f"
      },
      "execution_count": null,
      "outputs": [
        {
          "output_type": "stream",
          "name": "stdout",
          "text": [
            "Failed to download image from https://www.dermaamin.com/site/images/clinical-pic/l/lichensimplexchronicus/lichensimplexchronicus30.jpg\n",
            "Failed to download image from https://www.dermaamin.com/site/images/clinicalpicooralmucosalmelanomaoralmucosalmelanoma2.jpg\n"
          ]
        }
      ]
    },
    {
      "cell_type": "code",
      "source": [],
      "metadata": {
        "id": "kpkGJazBBie0"
      },
      "execution_count": null,
      "outputs": []
    },
    {
      "cell_type": "code",
      "source": [],
      "metadata": {
        "id": "ILCTp_k2BioQ"
      },
      "execution_count": null,
      "outputs": []
    },
    {
      "cell_type": "code",
      "source": [],
      "metadata": {
        "id": "sBuXJacpBiro"
      },
      "execution_count": null,
      "outputs": []
    },
    {
      "cell_type": "code",
      "source": [],
      "metadata": {
        "id": "fhHFqNjVBiun"
      },
      "execution_count": null,
      "outputs": []
    },
    {
      "cell_type": "code",
      "source": [
        "# Define the directory to be zipped\n",
        "directory_to_zip = '/content/images_DL'  # Change this to your directory path\n",
        "\n",
        "# Define the name for the zip file\n",
        "zip_file_name = 'project_pic.zip'\n",
        "\n",
        "# Create a zip file containing the directory\n",
        "shutil.make_archive(zip_file_name, 'zip', directory_to_zip)\n",
        "\n",
        "# Define the destination directory\n",
        "destination_directory = r'fuck_this'\n",
        "\n",
        "# Move the zip file to the destination directory\n",
        "shutil.move(zip_file_name + '.zip', destination_directory)"
      ],
      "metadata": {
        "colab": {
          "base_uri": "https://localhost:8080/",
          "height": 36
        },
        "id": "4hcL0OyV2X6v",
        "outputId": "2d93ea5e-e794-42c2-816a-70f92e6c6ca6"
      },
      "execution_count": null,
      "outputs": [
        {
          "output_type": "execute_result",
          "data": {
            "text/plain": [
              "'fuck_this'"
            ],
            "application/vnd.google.colaboratory.intrinsic+json": {
              "type": "string"
            }
          },
          "metadata": {},
          "execution_count": 121
        }
      ]
    },
    {
      "cell_type": "code",
      "source": [
        "# Rows being skipped are the ones that had the url replaced. Maybe new url is wrong or there is just on picture for those rows.\n",
        "# Discuss if we can just delete those rows. About 40 in the whole dataset."
      ],
      "metadata": {
        "id": "-aWsO8I_oKuw"
      },
      "execution_count": null,
      "outputs": []
    },
    {
      "cell_type": "code",
      "source": [],
      "metadata": {
        "id": "h44VoyOAlub2"
      },
      "execution_count": null,
      "outputs": []
    },
    {
      "cell_type": "code",
      "source": [],
      "metadata": {
        "id": "CnGp9WzYluee"
      },
      "execution_count": null,
      "outputs": []
    },
    {
      "cell_type": "code",
      "source": [],
      "metadata": {
        "id": "AwLb3HvIlugn"
      },
      "execution_count": null,
      "outputs": []
    },
    {
      "cell_type": "code",
      "source": [],
      "metadata": {
        "id": "J7p-BJEVGZU5"
      },
      "execution_count": null,
      "outputs": []
    },
    {
      "cell_type": "code",
      "source": [],
      "metadata": {
        "id": "yC722AxPGZWd"
      },
      "execution_count": null,
      "outputs": []
    },
    {
      "cell_type": "code",
      "source": [],
      "metadata": {
        "id": "huH1q16cjmBo"
      },
      "execution_count": null,
      "outputs": []
    },
    {
      "cell_type": "code",
      "source": [],
      "metadata": {
        "id": "k7PYgLSwM2Cc"
      },
      "execution_count": null,
      "outputs": []
    },
    {
      "cell_type": "code",
      "source": [],
      "metadata": {
        "id": "YP7kxCURM2Gn"
      },
      "execution_count": null,
      "outputs": []
    },
    {
      "cell_type": "code",
      "source": [],
      "metadata": {
        "id": "AUaKDxUcM2JP"
      },
      "execution_count": null,
      "outputs": []
    },
    {
      "cell_type": "code",
      "source": [],
      "metadata": {
        "id": "OcVHooV9M2MC"
      },
      "execution_count": null,
      "outputs": []
    }
  ]
}