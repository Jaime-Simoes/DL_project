{
  "nbformat": 4,
  "nbformat_minor": 0,
  "metadata": {
    "colab": {
      "provenance": [],
      "authorship_tag": "ABX9TyO2s9+PgP/TneSs+0UFFrHI",
      "include_colab_link": true
    },
    "kernelspec": {
      "name": "python3",
      "display_name": "Python 3"
    },
    "language_info": {
      "name": "python"
    }
  },
  "cells": [
    {
      "cell_type": "markdown",
      "metadata": {
        "id": "view-in-github",
        "colab_type": "text"
      },
      "source": [
        "<a href=\"https://colab.research.google.com/github/Jaime-Simoes/DL_project/blob/main/Copy_of_DL_draft.ipynb\" target=\"_parent\"><img src=\"https://colab.research.google.com/assets/colab-badge.svg\" alt=\"Open In Colab\"/></a>"
      ]
    },
    {
      "cell_type": "code",
      "source": [
        "# to put all the imports necessary\n",
        "\n",
        "import pandas as pd\n",
        "import tensorflow as tf\n",
        "from tensorflow.keras import layers, models\n",
        "from sklearn.model_selection import train_test_split\n",
        "import requests\n",
        "import os\n",
        "import urllib.request\n",
        "import matplotlib.pyplot as plt\n",
        "import seaborn as sns\n",
        "import shutil"
      ],
      "metadata": {
        "id": "NEeKYPiqyCA0"
      },
      "execution_count": 60,
      "outputs": []
    },
    {
      "cell_type": "code",
      "execution_count": 15,
      "metadata": {
        "id": "Xgqw5L-6qzZq"
      },
      "outputs": [],
      "source": [
        "df = pd.read_csv('fitzpatrick17k.csv')"
      ]
    },
    {
      "cell_type": "code",
      "source": [
        "# get names of columns\n",
        "\n",
        "columns = df.columns.tolist()\n",
        "print(columns)"
      ],
      "metadata": {
        "colab": {
          "base_uri": "https://localhost:8080/"
        },
        "id": "PybaAPa2t_Mw",
        "outputId": "37b7f7b9-765a-41bc-9686-9ca8bee9e0cf"
      },
      "execution_count": 16,
      "outputs": [
        {
          "output_type": "stream",
          "name": "stdout",
          "text": [
            "['md5hash', 'fitzpatrick_scale', 'fitzpatrick_centaur', 'label', 'nine_partition_label', 'three_partition_label', 'qc', 'url', 'url_alphanum']\n"
          ]
        }
      ]
    },
    {
      "cell_type": "code",
      "source": [
        "print(len(df))      # amount of occurences"
      ],
      "metadata": {
        "colab": {
          "base_uri": "https://localhost:8080/"
        },
        "id": "r93tM6BEuWFO",
        "outputId": "64df524f-bd15-42fc-bd66-386b30f88ac4"
      },
      "execution_count": 17,
      "outputs": [
        {
          "output_type": "stream",
          "name": "stdout",
          "text": [
            "3929\n"
          ]
        }
      ]
    },
    {
      "cell_type": "code",
      "source": [
        "df.isnull().sum()     # missing values"
      ],
      "metadata": {
        "colab": {
          "base_uri": "https://localhost:8080/"
        },
        "id": "cQatQq2_ufah",
        "outputId": "eeda50a5-f916-4216-e0bb-52d5702120cb"
      },
      "execution_count": 18,
      "outputs": [
        {
          "output_type": "execute_result",
          "data": {
            "text/plain": [
              "md5hash                     0\n",
              "fitzpatrick_scale           0\n",
              "fitzpatrick_centaur         0\n",
              "label                       0\n",
              "nine_partition_label        0\n",
              "three_partition_label       0\n",
              "qc                       3812\n",
              "url                        13\n",
              "url_alphanum                0\n",
              "dtype: int64"
            ]
          },
          "metadata": {},
          "execution_count": 18
        }
      ]
    },
    {
      "cell_type": "code",
      "source": [
        "df.isna().sum()"
      ],
      "metadata": {
        "id": "bt1t5gamywvx",
        "outputId": "ccb09dce-dda1-481b-d081-c6546347661d",
        "colab": {
          "base_uri": "https://localhost:8080/"
        }
      },
      "execution_count": 19,
      "outputs": [
        {
          "output_type": "execute_result",
          "data": {
            "text/plain": [
              "md5hash                     0\n",
              "fitzpatrick_scale           0\n",
              "fitzpatrick_centaur         0\n",
              "label                       0\n",
              "nine_partition_label        0\n",
              "three_partition_label       0\n",
              "qc                       3812\n",
              "url                        13\n",
              "url_alphanum                0\n",
              "dtype: int64"
            ]
          },
          "metadata": {},
          "execution_count": 19
        }
      ]
    },
    {
      "cell_type": "code",
      "source": [
        "print(df.duplicated(subset=['md5hash']).sum())\n",
        "\n",
        "# First column has no repeated values. It's codes of some sort to identify each occurence.\n",
        "# So we can delete this column."
      ],
      "metadata": {
        "colab": {
          "base_uri": "https://localhost:8080/"
        },
        "id": "yFGJJUV4W06C",
        "outputId": "0e70ed6e-4883-4c59-d48e-d428869823d0"
      },
      "execution_count": 20,
      "outputs": [
        {
          "output_type": "stream",
          "name": "stdout",
          "text": [
            "0\n"
          ]
        }
      ]
    },
    {
      "cell_type": "code",
      "source": [
        "df.drop(columns=['md5hash'], inplace=True)"
      ],
      "metadata": {
        "id": "42peCRoNW07m"
      },
      "execution_count": 21,
      "outputs": []
    },
    {
      "cell_type": "code",
      "source": [
        "# qc might be quality control"
      ],
      "metadata": {
        "id": "yOdl6oVHx4NG"
      },
      "execution_count": 22,
      "outputs": []
    },
    {
      "cell_type": "code",
      "source": [
        "print(df['qc'].value_counts())     # numbers before are part of the names\n",
        "\n",
        "# need to discuss this, not sure what's going on"
      ],
      "metadata": {
        "colab": {
          "base_uri": "https://localhost:8080/"
        },
        "id": "dpXV_VTbx8j7",
        "outputId": "169cf291-f631-4d61-c361-a659b917c15c"
      },
      "execution_count": 23,
      "outputs": [
        {
          "output_type": "stream",
          "name": "stdout",
          "text": [
            "1 Diagnostic          82\n",
            "5 Potentially         20\n",
            "2 Characteristic       9\n",
            "3 Wrongly labelled     5\n",
            "4 Other                1\n",
            "Name: qc, dtype: int64\n"
          ]
        }
      ]
    },
    {
      "cell_type": "code",
      "source": [
        "print(df['label'].value_counts())      # our target variable. lenght = 114 ;"
      ],
      "metadata": {
        "colab": {
          "base_uri": "https://localhost:8080/"
        },
        "id": "o4G_x3F5B3kJ",
        "outputId": "1af35da2-cd3f-45bb-8525-502f354b55ca"
      },
      "execution_count": 24,
      "outputs": [
        {
          "output_type": "stream",
          "name": "stdout",
          "text": [
            "psoriasis                      177\n",
            "squamous cell carcinoma        117\n",
            "allergic contact dermatitis    113\n",
            "sarcoidosis                    107\n",
            "lupus erythematosus            106\n",
            "                              ... \n",
            "erythema nodosum                11\n",
            "port wine stain                 11\n",
            "tungiasis                       11\n",
            "erythema elevatum diutinum      10\n",
            "myiasis                          8\n",
            "Name: label, Length: 114, dtype: int64\n"
          ]
        }
      ]
    },
    {
      "cell_type": "code",
      "source": [
        "duplicate_url = df.duplicated(subset=['url'])\n",
        "print(duplicate_url.value_counts())\n",
        "\n",
        "# 40 url repeat. Let's see if the whole line is equal (except 1st column that is some weird code)"
      ],
      "metadata": {
        "colab": {
          "base_uri": "https://localhost:8080/"
        },
        "id": "3KZlklxMB3py",
        "outputId": "c9ac4313-22fa-42bd-c6be-5ad704b157b0"
      },
      "execution_count": 25,
      "outputs": [
        {
          "output_type": "stream",
          "name": "stdout",
          "text": [
            "False    3917\n",
            "True       12\n",
            "dtype: int64\n"
          ]
        }
      ]
    },
    {
      "cell_type": "code",
      "source": [
        "print(df.iloc[:, 1:].duplicated().sum())     # duplicate rows except first column\n",
        "\n",
        "# so there are 40 repeated url but no repeated rows. Meaning equal pictures have\n",
        "# different attributes. need to discuss this."
      ],
      "metadata": {
        "colab": {
          "base_uri": "https://localhost:8080/"
        },
        "id": "dttI_F6fCqtu",
        "outputId": "97270cb5-86c8-48be-bb5e-892cbce864ed"
      },
      "execution_count": 26,
      "outputs": [
        {
          "output_type": "stream",
          "name": "stdout",
          "text": [
            "0\n"
          ]
        }
      ]
    },
    {
      "cell_type": "code",
      "source": [
        "print(df.iloc[:, [i for i in range(len(df.columns)) if i not in [0, 6]]].duplicated().sum())"
      ],
      "metadata": {
        "colab": {
          "base_uri": "https://localhost:8080/"
        },
        "id": "YeeI3lvsCqy2",
        "outputId": "de10abab-9195-4cce-9875-6250fd6864f9"
      },
      "execution_count": 27,
      "outputs": [
        {
          "output_type": "stream",
          "name": "stdout",
          "text": [
            "0\n"
          ]
        }
      ]
    },
    {
      "cell_type": "code",
      "source": [
        "print(df['nine_partition_label'].value_counts())\n",
        "# categorize skin conditions by 9"
      ],
      "metadata": {
        "colab": {
          "base_uri": "https://localhost:8080/"
        },
        "id": "_Mll82PQTAtv",
        "outputId": "b390d3ed-1fd2-49eb-a742-e09d99bdc3d3"
      },
      "execution_count": 28,
      "outputs": [
        {
          "output_type": "stream",
          "name": "stdout",
          "text": [
            "inflammatory                    2640\n",
            "benign dermal                    272\n",
            "malignant epidermal              271\n",
            "genodermatoses                   230\n",
            "benign epidermal                 204\n",
            "malignant melanoma               164\n",
            "benign melanocyte                 80\n",
            "malignant dermal                  37\n",
            "malignant cutaneous lymphoma      31\n",
            "Name: nine_partition_label, dtype: int64\n"
          ]
        }
      ]
    },
    {
      "cell_type": "code",
      "source": [
        "print(df['three_partition_label'].value_counts())\n",
        "# categorize skin conditions by 3"
      ],
      "metadata": {
        "colab": {
          "base_uri": "https://localhost:8080/"
        },
        "id": "OPs1HxwGTAvN",
        "outputId": "2c154fb2-513a-45e8-d9ba-ce1c8afa8cd1"
      },
      "execution_count": 29,
      "outputs": [
        {
          "output_type": "stream",
          "name": "stdout",
          "text": [
            "non-neoplastic    2870\n",
            "benign             556\n",
            "malignant          503\n",
            "Name: three_partition_label, dtype: int64\n"
          ]
        }
      ]
    },
    {
      "cell_type": "code",
      "source": [
        "# Get distributions of numerical columns"
      ],
      "metadata": {
        "id": "9DNQh-dAB3sV"
      },
      "execution_count": 30,
      "outputs": []
    },
    {
      "cell_type": "code",
      "source": [
        "# \"fitzpatrick_scale\" -> classification system used to categorize human skin color based on its response to sun exposure or UV light.\n",
        "# Scale is from 1 to 6. (-1) instances are missing values."
      ],
      "metadata": {
        "id": "1Cx4PbawBFbd"
      },
      "execution_count": 31,
      "outputs": []
    },
    {
      "cell_type": "code",
      "source": [
        "plt.figure(figsize=(6, 4))\n",
        "sns.countplot(data=df, x='fitzpatrick_scale')\n",
        "plt.title('Distribution of Fitzpatrick Scale')\n",
        "plt.xlabel('Fitzpatrick Scale')\n",
        "plt.ylabel('Count')\n",
        "plt.show()"
      ],
      "metadata": {
        "colab": {
          "base_uri": "https://localhost:8080/",
          "height": 410
        },
        "id": "qgU0jJKd-FaR",
        "outputId": "77bf297c-11f5-49c9-ca67-2d41ba990684"
      },
      "execution_count": 32,
      "outputs": [
        {
          "output_type": "display_data",
          "data": {
            "text/plain": [
              "<Figure size 600x400 with 1 Axes>"
            ],
            "image/png": "[encoded data removed]"
          },
          "metadata": {}
        }
      ]
    },
    {
      "cell_type": "code",
      "source": [
        "# Need to discuss what to do with these missing values!"
      ],
      "metadata": {
        "id": "Xke6XCefD7jC"
      },
      "execution_count": 33,
      "outputs": []
    },
    {
      "cell_type": "code",
      "source": [
        "missing_fitzscale = df[df['fitzpatrick_scale'] == -1]\n",
        "print(missing_fitzscale['fitzpatrick_centaur'].value_counts())\n",
        "\n",
        "# big correlation between missing values of fitz columns. The other values follow the\n",
        "# reference distribution, aka proportional to existing values."
      ],
      "metadata": {
        "colab": {
          "base_uri": "https://localhost:8080/"
        },
        "id": "JIJWuZsQSdr2",
        "outputId": "68d3cd84-55de-4cf2-aed0-734206136082"
      },
      "execution_count": 34,
      "outputs": [
        {
          "output_type": "stream",
          "name": "stdout",
          "text": [
            "-1    70\n",
            " 2    30\n",
            " 1    23\n",
            " 5     7\n",
            " 4     7\n",
            " 3     4\n",
            " 6     1\n",
            "Name: fitzpatrick_centaur, dtype: int64\n"
          ]
        }
      ]
    },
    {
      "cell_type": "code",
      "source": [
        "print(missing_fitzscale['nine_partition_label'].value_counts())\n",
        "\n",
        "# Here is a bit off but not mutch."
      ],
      "metadata": {
        "colab": {
          "base_uri": "https://localhost:8080/"
        },
        "id": "pqjxZluATOVN",
        "outputId": "74a20df7-b53a-4799-b6c3-e51e66725bce"
      },
      "execution_count": 35,
      "outputs": [
        {
          "output_type": "stream",
          "name": "stdout",
          "text": [
            "inflammatory           89\n",
            "benign dermal          17\n",
            "malignant epidermal    13\n",
            "genodermatoses          9\n",
            "malignant melanoma      7\n",
            "benign epidermal        6\n",
            "benign melanocyte       1\n",
            "Name: nine_partition_label, dtype: int64\n"
          ]
        }
      ]
    },
    {
      "cell_type": "code",
      "source": [
        "print(missing_fitzscale['three_partition_label'].value_counts())\n",
        "\n",
        "# Also different."
      ],
      "metadata": {
        "colab": {
          "base_uri": "https://localhost:8080/"
        },
        "id": "2bq7rsURSduM",
        "outputId": "badd1c79-5d46-407e-c385-30f56dd491c3"
      },
      "execution_count": 36,
      "outputs": [
        {
          "output_type": "stream",
          "name": "stdout",
          "text": [
            "non-neoplastic    98\n",
            "benign            24\n",
            "malignant         20\n",
            "Name: three_partition_label, dtype: int64\n"
          ]
        }
      ]
    },
    {
      "cell_type": "code",
      "source": [],
      "metadata": {
        "id": "inycGmR1Sdv_"
      },
      "execution_count": 36,
      "outputs": []
    },
    {
      "cell_type": "code",
      "source": [
        "# \"fitzpatrick_centaur\" -> don't know what this is. Most likely (-1) are also missing values."
      ],
      "metadata": {
        "id": "1i3JayajBboX"
      },
      "execution_count": 37,
      "outputs": []
    },
    {
      "cell_type": "code",
      "source": [
        "plt.figure(figsize=(6, 4))\n",
        "sns.countplot(data=df, x='fitzpatrick_centaur')\n",
        "plt.title('Distribution of Fitzpatrick Centaur')\n",
        "plt.xlabel('Fitzpatrick Centaur')\n",
        "plt.ylabel('Count')\n",
        "plt.show()"
      ],
      "metadata": {
        "colab": {
          "base_uri": "https://localhost:8080/",
          "height": 410
        },
        "id": "fZEDN7o--Fcf",
        "outputId": "40b0720b-134e-4073-eeb4-4705f049d5b6"
      },
      "execution_count": 38,
      "outputs": [
        {
          "output_type": "display_data",
          "data": {
            "text/plain": [
              "<Figure size 600x400 with 1 Axes>"
            ],
            "image/png": "[encoded data removed]"
          },
          "metadata": {}
        }
      ]
    },
    {
      "cell_type": "code",
      "source": [
        "# Need to discuss what to do with these missing values!"
      ],
      "metadata": {
        "id": "bSl-DSs2D8Wy"
      },
      "execution_count": 39,
      "outputs": []
    },
    {
      "cell_type": "code",
      "source": [
        "missing_fitzcentaur = df[df['fitzpatrick_centaur'] == -1]\n",
        "print(missing_fitzcentaur['nine_partition_label'].value_counts())\n",
        "\n",
        "# Different from scale column."
      ],
      "metadata": {
        "id": "hQxj1t6k-Ff4",
        "colab": {
          "base_uri": "https://localhost:8080/"
        },
        "outputId": "0994921a-52c2-4aac-b1a6-e95c37d88b42"
      },
      "execution_count": 40,
      "outputs": [
        {
          "output_type": "stream",
          "name": "stdout",
          "text": [
            "inflammatory           136\n",
            "benign dermal           43\n",
            "malignant epidermal     25\n",
            "benign epidermal        12\n",
            "malignant melanoma      10\n",
            "genodermatoses           5\n",
            "malignant dermal         2\n",
            "benign melanocyte        2\n",
            "Name: nine_partition_label, dtype: int64\n"
          ]
        }
      ]
    },
    {
      "cell_type": "code",
      "source": [
        "print(missing_fitzcentaur['three_partition_label'].value_counts())"
      ],
      "metadata": {
        "id": "VvN5MmlfCzi0",
        "colab": {
          "base_uri": "https://localhost:8080/"
        },
        "outputId": "5e83664e-aab3-4018-fc17-aeb7ce63eec2"
      },
      "execution_count": 41,
      "outputs": [
        {
          "output_type": "stream",
          "name": "stdout",
          "text": [
            "non-neoplastic    141\n",
            "benign             57\n",
            "malignant          37\n",
            "Name: three_partition_label, dtype: int64\n"
          ]
        }
      ]
    },
    {
      "cell_type": "code",
      "source": [
        "# Now let's apply one hot encoding for categorical variables"
      ],
      "metadata": {
        "id": "mh9BZm5cCzlU"
      },
      "execution_count": 42,
      "outputs": []
    },
    {
      "cell_type": "code",
      "source": [
        "one_hot_encode = [\"label\", \"nine_partition_label\", \"three_partition_label\"]\n",
        "\n",
        "new_df = pd.get_dummies(df, columns=one_hot_encode)"
      ],
      "metadata": {
        "id": "HnfErMLXCzsq"
      },
      "execution_count": 43,
      "outputs": []
    },
    {
      "cell_type": "code",
      "source": [
        "new_df.head()"
      ],
      "metadata": {
        "id": "2Hn-QGjp-FhV",
        "colab": {
          "base_uri": "https://localhost:8080/",
          "height": 325
        },
        "outputId": "53bfdc6b-2be1-445f-cea8-e19cb3fe266a"
      },
      "execution_count": 44,
      "outputs": [
        {
          "output_type": "execute_result",
          "data": {
            "text/plain": [
              "   fitzpatrick_scale  fitzpatrick_centaur   qc  \\\n",
              "0                  3                    3  NaN   \n",
              "1                  1                    1  NaN   \n",
              "2                  2                    3  NaN   \n",
              "3                  1                    1  NaN   \n",
              "4                  1                    1  NaN   \n",
              "\n",
              "                                                 url  \\\n",
              "0  https://www.dermaamin.com/site/images/clinical...   \n",
              "1  https://www.dermaamin.com/site/images/clinical...   \n",
              "2  https://www.dermaamin.com/site/images/clinical...   \n",
              "3  https://www.dermaamin.com/site/images/clinical...   \n",
              "4  https://www.dermaamin.com/site/images/clinical...   \n",
              "\n",
              "                                        url_alphanum  \\\n",
              "0  httpwwwdermaamincomsiteimagesclinicalpicmminoc...   \n",
              "1  httpwwwdermaamincomsiteimagesclinicalpicpphoto...   \n",
              "2  httpwwwdermaamincomsiteimagesclinicalpicdderma...   \n",
              "3  httpwwwdermaamincomsiteimagesclinicalpicppsori...   \n",
              "4  httpwwwdermaamincomsiteimagesclinicalpicppsori...   \n",
              "\n",
              "   label_acanthosis nigricans  label_acne  label_acne vulgaris  \\\n",
              "0                           0           0                    0   \n",
              "1                           0           0                    0   \n",
              "2                           0           0                    0   \n",
              "3                           0           0                    0   \n",
              "4                           0           0                    0   \n",
              "\n",
              "   label_acquired autoimmune bullous diseaseherpes gestationis  \\\n",
              "0                                                  0             \n",
              "1                                                  0             \n",
              "2                                                  0             \n",
              "3                                                  0             \n",
              "4                                                  0             \n",
              "\n",
              "   label_acrodermatitis enteropathica  ...  \\\n",
              "0                                   0  ...   \n",
              "1                                   0  ...   \n",
              "2                                   0  ...   \n",
              "3                                   0  ...   \n",
              "4                                   0  ...   \n",
              "\n",
              "   nine_partition_label_benign melanocyte  \\\n",
              "0                                       0   \n",
              "1                                       0   \n",
              "2                                       0   \n",
              "3                                       0   \n",
              "4                                       0   \n",
              "\n",
              "   nine_partition_label_genodermatoses  nine_partition_label_inflammatory  \\\n",
              "0                                    0                                  1   \n",
              "1                                    0                                  1   \n",
              "2                                    0                                  0   \n",
              "3                                    0                                  1   \n",
              "4                                    0                                  1   \n",
              "\n",
              "   nine_partition_label_malignant cutaneous lymphoma  \\\n",
              "0                                                  0   \n",
              "1                                                  0   \n",
              "2                                                  0   \n",
              "3                                                  0   \n",
              "4                                                  0   \n",
              "\n",
              "   nine_partition_label_malignant dermal  \\\n",
              "0                                      0   \n",
              "1                                      0   \n",
              "2                                      0   \n",
              "3                                      0   \n",
              "4                                      0   \n",
              "\n",
              "   nine_partition_label_malignant epidermal  \\\n",
              "0                                         0   \n",
              "1                                         0   \n",
              "2                                         0   \n",
              "3                                         0   \n",
              "4                                         0   \n",
              "\n",
              "   nine_partition_label_malignant melanoma  three_partition_label_benign  \\\n",
              "0                                        0                             0   \n",
              "1                                        0                             0   \n",
              "2                                        0                             1   \n",
              "3                                        0                             0   \n",
              "4                                        0                             0   \n",
              "\n",
              "   three_partition_label_malignant  three_partition_label_non-neoplastic  \n",
              "0                                0                                     1  \n",
              "1                                0                                     1  \n",
              "2                                0                                     0  \n",
              "3                                0                                     1  \n",
              "4                                0                                     1  \n",
              "\n",
              "[5 rows x 131 columns]"
            ],
            "text/html": [
              "\n",
              "  <div id=\"df-6e6c20ee-a846-497e-b31e-adf3cc041c0f\" class=\"colab-df-container\">\n",
              "    <div>\n",
              "<style scoped>\n",
              "    .dataframe tbody tr th:only-of-type {\n",
              "        vertical-align: middle;\n",
              "    }\n",
              "\n",
              "    .dataframe tbody tr th {\n",
              "        vertical-align: top;\n",
              "    }\n",
              "\n",
              "    .dataframe thead th {\n",
              "        text-align: right;\n",
              "    }\n",
              "</style>\n",
              "<table border=\"1\" class=\"dataframe\">\n",
              "  <thead>\n",
              "    <tr style=\"text-align: right;\">\n",
              "      <th></th>\n",
              "      <th>fitzpatrick_scale</th>\n",
              "      <th>fitzpatrick_centaur</th>\n",
              "      <th>qc</th>\n",
              "      <th>url</th>\n",
              "      <th>url_alphanum</th>\n",
              "      <th>label_acanthosis nigricans</th>\n",
              "      <th>label_acne</th>\n",
              "      <th>label_acne vulgaris</th>\n",
              "      <th>label_acquired autoimmune bullous diseaseherpes gestationis</th>\n",
              "      <th>label_acrodermatitis enteropathica</th>\n",
              "      <th>...</th>\n",
              "      <th>nine_partition_label_benign melanocyte</th>\n",
              "      <th>nine_partition_label_genodermatoses</th>\n",
              "      <th>nine_partition_label_inflammatory</th>\n",
              "      <th>nine_partition_label_malignant cutaneous lymphoma</th>\n",
              "      <th>nine_partition_label_malignant dermal</th>\n",
              "      <th>nine_partition_label_malignant epidermal</th>\n",
              "      <th>nine_partition_label_malignant melanoma</th>\n",
              "      <th>three_partition_label_benign</th>\n",
              "      <th>three_partition_label_malignant</th>\n",
              "      <th>three_partition_label_non-neoplastic</th>\n",
              "    </tr>\n",
              "  </thead>\n",
              "  <tbody>\n",
              "    <tr>\n",
              "      <th>0</th>\n",
              "      <td>3</td>\n",
              "      <td>3</td>\n",
              "      <td>NaN</td>\n",
              "      <td>https://www.dermaamin.com/site/images/clinical...</td>\n",
              "      <td>httpwwwdermaamincomsiteimagesclinicalpicmminoc...</td>\n",
              "      <td>0</td>\n",
              "      <td>0</td>\n",
              "      <td>0</td>\n",
              "      <td>0</td>\n",
              "      <td>0</td>\n",
              "      <td>...</td>\n",
              "      <td>0</td>\n",
              "      <td>0</td>\n",
              "      <td>1</td>\n",
              "      <td>0</td>\n",
              "      <td>0</td>\n",
              "      <td>0</td>\n",
              "      <td>0</td>\n",
              "      <td>0</td>\n",
              "      <td>0</td>\n",
              "      <td>1</td>\n",
              "    </tr>\n",
              "    <tr>\n",
              "      <th>1</th>\n",
              "      <td>1</td>\n",
              "      <td>1</td>\n",
              "      <td>NaN</td>\n",
              "      <td>https://www.dermaamin.com/site/images/clinical...</td>\n",
              "      <td>httpwwwdermaamincomsiteimagesclinicalpicpphoto...</td>\n",
              "      <td>0</td>\n",
              "      <td>0</td>\n",
              "      <td>0</td>\n",
              "      <td>0</td>\n",
              "      <td>0</td>\n",
              "      <td>...</td>\n",
              "      <td>0</td>\n",
              "      <td>0</td>\n",
              "      <td>1</td>\n",
              "      <td>0</td>\n",
              "      <td>0</td>\n",
              "      <td>0</td>\n",
              "      <td>0</td>\n",
              "      <td>0</td>\n",
              "      <td>0</td>\n",
              "      <td>1</td>\n",
              "    </tr>\n",
              "    <tr>\n",
              "      <th>2</th>\n",
              "      <td>2</td>\n",
              "      <td>3</td>\n",
              "      <td>NaN</td>\n",
              "      <td>https://www.dermaamin.com/site/images/clinical...</td>\n",
              "      <td>httpwwwdermaamincomsiteimagesclinicalpicdderma...</td>\n",
              "      <td>0</td>\n",
              "      <td>0</td>\n",
              "      <td>0</td>\n",
              "      <td>0</td>\n",
              "      <td>0</td>\n",
              "      <td>...</td>\n",
              "      <td>0</td>\n",
              "      <td>0</td>\n",
              "      <td>0</td>\n",
              "      <td>0</td>\n",
              "      <td>0</td>\n",
              "      <td>0</td>\n",
              "      <td>0</td>\n",
              "      <td>1</td>\n",
              "      <td>0</td>\n",
              "      <td>0</td>\n",
              "    </tr>\n",
              "    <tr>\n",
              "      <th>3</th>\n",
              "      <td>1</td>\n",
              "      <td>1</td>\n",
              "      <td>NaN</td>\n",
              "      <td>https://www.dermaamin.com/site/images/clinical...</td>\n",
              "      <td>httpwwwdermaamincomsiteimagesclinicalpicppsori...</td>\n",
              "      <td>0</td>\n",
              "      <td>0</td>\n",
              "      <td>0</td>\n",
              "      <td>0</td>\n",
              "      <td>0</td>\n",
              "      <td>...</td>\n",
              "      <td>0</td>\n",
              "      <td>0</td>\n",
              "      <td>1</td>\n",
              "      <td>0</td>\n",
              "      <td>0</td>\n",
              "      <td>0</td>\n",
              "      <td>0</td>\n",
              "      <td>0</td>\n",
              "      <td>0</td>\n",
              "      <td>1</td>\n",
              "    </tr>\n",
              "    <tr>\n",
              "      <th>4</th>\n",
              "      <td>1</td>\n",
              "      <td>1</td>\n",
              "      <td>NaN</td>\n",
              "      <td>https://www.dermaamin.com/site/images/clinical...</td>\n",
              "      <td>httpwwwdermaamincomsiteimagesclinicalpicppsori...</td>\n",
              "      <td>0</td>\n",
              "      <td>0</td>\n",
              "      <td>0</td>\n",
              "      <td>0</td>\n",
              "      <td>0</td>\n",
              "      <td>...</td>\n",
              "      <td>0</td>\n",
              "      <td>0</td>\n",
              "      <td>1</td>\n",
              "      <td>0</td>\n",
              "      <td>0</td>\n",
              "      <td>0</td>\n",
              "      <td>0</td>\n",
              "      <td>0</td>\n",
              "      <td>0</td>\n",
              "      <td>1</td>\n",
              "    </tr>\n",
              "  </tbody>\n",
              "</table>\n",
              "<p>5 rows × 131 columns</p>\n",
              "</div>\n",
              "    <div class=\"colab-df-buttons\">\n",
              "\n",
              "  <div class=\"colab-df-container\">\n",
              "    <button class=\"colab-df-convert\" onclick=\"convertToInteractive('df-6e6c20ee-a846-497e-b31e-adf3cc041c0f')\"\n",
              "            title=\"Convert this dataframe to an interactive table.\"\n",
              "            style=\"display:none;\">\n",
              "\n",
              "  <svg xmlns=\"http://www.w3.org/2000/svg\" height=\"24px\" viewBox=\"0 -960 960 960\">\n",
              "    <path d=\"M120-120v-720h720v720H120Zm60-500h600v-160H180v160Zm220 220h160v-160H400v160Zm0 220h160v-160H400v160ZM180-400h160v-160H180v160Zm440 0h160v-160H620v160ZM180-180h160v-160H180v160Zm440 0h160v-160H620v160Z\"/>\n",
              "  </svg>\n",
              "    </button>\n",
              "\n",
              "  <style>\n",
              "    .colab-df-container {\n",
              "      display:flex;\n",
              "      gap: 12px;\n",
              "    }\n",
              "\n",
              "    .colab-df-convert {\n",
              "      background-color: #E8F0FE;\n",
              "      border: none;\n",
              "      border-radius: 50%;\n",
              "      cursor: pointer;\n",
              "      display: none;\n",
              "      fill: #1967D2;\n",
              "      height: 32px;\n",
              "      padding: 0 0 0 0;\n",
              "      width: 32px;\n",
              "    }\n",
              "\n",
              "    .colab-df-convert:hover {\n",
              "      background-color: #E2EBFA;\n",
              "      box-shadow: 0px 1px 2px rgba(60, 64, 67, 0.3), 0px 1px 3px 1px rgba(60, 64, 67, 0.15);\n",
              "      fill: #174EA6;\n",
              "    }\n",
              "\n",
              "    .colab-df-buttons div {\n",
              "      margin-bottom: 4px;\n",
              "    }\n",
              "\n",
              "    [theme=dark] .colab-df-convert {\n",
              "      background-color: #3B4455;\n",
              "      fill: #D2E3FC;\n",
              "    }\n",
              "\n",
              "    [theme=dark] .colab-df-convert:hover {\n",
              "      background-color: #434B5C;\n",
              "      box-shadow: 0px 1px 3px 1px rgba(0, 0, 0, 0.15);\n",
              "      filter: drop-shadow(0px 1px 2px rgba(0, 0, 0, 0.3));\n",
              "      fill: #FFFFFF;\n",
              "    }\n",
              "  </style>\n",
              "\n",
              "    <script>\n",
              "      const buttonEl =\n",
              "        document.querySelector('#df-6e6c20ee-a846-497e-b31e-adf3cc041c0f button.colab-df-convert');\n",
              "      buttonEl.style.display =\n",
              "        google.colab.kernel.accessAllowed ? 'block' : 'none';\n",
              "\n",
              "      async function convertToInteractive(key) {\n",
              "        const element = document.querySelector('#df-6e6c20ee-a846-497e-b31e-adf3cc041c0f');\n",
              "        const dataTable =\n",
              "          await google.colab.kernel.invokeFunction('convertToInteractive',\n",
              "                                                    [key], {});\n",
              "        if (!dataTable) return;\n",
              "\n",
              "        const docLinkHtml = 'Like what you see? Visit the ' +\n",
              "          '<a target=\"_blank\" href=https://colab.research.google.com/notebooks/data_table.ipynb>data table notebook</a>'\n",
              "          + ' to learn more about interactive tables.';\n",
              "        element.innerHTML = '';\n",
              "        dataTable['output_type'] = 'display_data';\n",
              "        await google.colab.output.renderOutput(dataTable, element);\n",
              "        const docLink = document.createElement('div');\n",
              "        docLink.innerHTML = docLinkHtml;\n",
              "        element.appendChild(docLink);\n",
              "      }\n",
              "    </script>\n",
              "  </div>\n",
              "\n",
              "\n",
              "<div id=\"df-2340d9b4-d75b-41f4-b505-c8d8a046fc69\">\n",
              "  <button class=\"colab-df-quickchart\" onclick=\"quickchart('df-2340d9b4-d75b-41f4-b505-c8d8a046fc69')\"\n",
              "            title=\"Suggest charts\"\n",
              "            style=\"display:none;\">\n",
              "\n",
              "<svg xmlns=\"http://www.w3.org/2000/svg\" height=\"24px\"viewBox=\"0 0 24 24\"\n",
              "     width=\"24px\">\n",
              "    <g>\n",
              "        <path d=\"M19 3H5c-1.1 0-2 .9-2 2v14c0 1.1.9 2 2 2h14c1.1 0 2-.9 2-2V5c0-1.1-.9-2-2-2zM9 17H7v-7h2v7zm4 0h-2V7h2v10zm4 0h-2v-4h2v4z\"/>\n",
              "    </g>\n",
              "</svg>\n",
              "  </button>\n",
              "\n",
              "<style>\n",
              "  .colab-df-quickchart {\n",
              "      --bg-color: #E8F0FE;\n",
              "      --fill-color: #1967D2;\n",
              "      --hover-bg-color: #E2EBFA;\n",
              "      --hover-fill-color: #174EA6;\n",
              "      --disabled-fill-color: #AAA;\n",
              "      --disabled-bg-color: #DDD;\n",
              "  }\n",
              "\n",
              "  [theme=dark] .colab-df-quickchart {\n",
              "      --bg-color: #3B4455;\n",
              "      --fill-color: #D2E3FC;\n",
              "      --hover-bg-color: #434B5C;\n",
              "      --hover-fill-color: #FFFFFF;\n",
              "      --disabled-bg-color: #3B4455;\n",
              "      --disabled-fill-color: #666;\n",
              "  }\n",
              "\n",
              "  .colab-df-quickchart {\n",
              "    background-color: var(--bg-color);\n",
              "    border: none;\n",
              "    border-radius: 50%;\n",
              "    cursor: pointer;\n",
              "    display: none;\n",
              "    fill: var(--fill-color);\n",
              "    height: 32px;\n",
              "    padding: 0;\n",
              "    width: 32px;\n",
              "  }\n",
              "\n",
              "  .colab-df-quickchart:hover {\n",
              "    background-color: var(--hover-bg-color);\n",
              "    box-shadow: 0 1px 2px rgba(60, 64, 67, 0.3), 0 1px 3px 1px rgba(60, 64, 67, 0.15);\n",
              "    fill: var(--button-hover-fill-color);\n",
              "  }\n",
              "\n",
              "  .colab-df-quickchart-complete:disabled,\n",
              "  .colab-df-quickchart-complete:disabled:hover {\n",
              "    background-color: var(--disabled-bg-color);\n",
              "    fill: var(--disabled-fill-color);\n",
              "    box-shadow: none;\n",
              "  }\n",
              "\n",
              "  .colab-df-spinner {\n",
              "    border: 2px solid var(--fill-color);\n",
              "    border-color: transparent;\n",
              "    border-bottom-color: var(--fill-color);\n",
              "    animation:\n",
              "      spin 1s steps(1) infinite;\n",
              "  }\n",
              "\n",
              "  @keyframes spin {\n",
              "    0% {\n",
              "      border-color: transparent;\n",
              "      border-bottom-color: var(--fill-color);\n",
              "      border-left-color: var(--fill-color);\n",
              "    }\n",
              "    20% {\n",
              "      border-color: transparent;\n",
              "      border-left-color: var(--fill-color);\n",
              "      border-top-color: var(--fill-color);\n",
              "    }\n",
              "    30% {\n",
              "      border-color: transparent;\n",
              "      border-left-color: var(--fill-color);\n",
              "      border-top-color: var(--fill-color);\n",
              "      border-right-color: var(--fill-color);\n",
              "    }\n",
              "    40% {\n",
              "      border-color: transparent;\n",
              "      border-right-color: var(--fill-color);\n",
              "      border-top-color: var(--fill-color);\n",
              "    }\n",
              "    60% {\n",
              "      border-color: transparent;\n",
              "      border-right-color: var(--fill-color);\n",
              "    }\n",
              "    80% {\n",
              "      border-color: transparent;\n",
              "      border-right-color: var(--fill-color);\n",
              "      border-bottom-color: var(--fill-color);\n",
              "    }\n",
              "    90% {\n",
              "      border-color: transparent;\n",
              "      border-bottom-color: var(--fill-color);\n",
              "    }\n",
              "  }\n",
              "</style>\n",
              "\n",
              "  <script>\n",
              "    async function quickchart(key) {\n",
              "      const quickchartButtonEl =\n",
              "        document.querySelector('#' + key + ' button');\n",
              "      quickchartButtonEl.disabled = true;  // To prevent multiple clicks.\n",
              "      quickchartButtonEl.classList.add('colab-df-spinner');\n",
              "      try {\n",
              "        const charts = await google.colab.kernel.invokeFunction(\n",
              "            'suggestCharts', [key], {});\n",
              "      } catch (error) {\n",
              "        console.error('Error during call to suggestCharts:', error);\n",
              "      }\n",
              "      quickchartButtonEl.classList.remove('colab-df-spinner');\n",
              "      quickchartButtonEl.classList.add('colab-df-quickchart-complete');\n",
              "    }\n",
              "    (() => {\n",
              "      let quickchartButtonEl =\n",
              "        document.querySelector('#df-2340d9b4-d75b-41f4-b505-c8d8a046fc69 button');\n",
              "      quickchartButtonEl.style.display =\n",
              "        google.colab.kernel.accessAllowed ? 'block' : 'none';\n",
              "    })();\n",
              "  </script>\n",
              "</div>\n",
              "    </div>\n",
              "  </div>\n"
            ],
            "application/vnd.google.colaboratory.intrinsic+json": {
              "type": "dataframe",
              "variable_name": "new_df"
            }
          },
          "metadata": {},
          "execution_count": 44
        }
      ]
    },
    {
      "cell_type": "code",
      "source": [
        "new_df.shape"
      ],
      "metadata": {
        "colab": {
          "base_uri": "https://localhost:8080/"
        },
        "id": "GJ8_FXGig8hC",
        "outputId": "23092203-9a6d-4436-ac9c-fcbd7a9fbb1d"
      },
      "execution_count": 45,
      "outputs": [
        {
          "output_type": "execute_result",
          "data": {
            "text/plain": [
              "(3929, 131)"
            ]
          },
          "metadata": {},
          "execution_count": 45
        }
      ]
    },
    {
      "cell_type": "code",
      "source": [
        "# This will give problems later on for sure but for now keep it like this. To apply CNN needs to be one hot encoded."
      ],
      "metadata": {
        "id": "B40TQjKkhIIm"
      },
      "execution_count": 46,
      "outputs": []
    },
    {
      "cell_type": "code",
      "source": [
        "# Need to see if column \"qc\" is built in a certain specific way that makes sense. If not almost everything is missing values so it\n",
        "# will be worse to keep it I think. Delete for now:"
      ],
      "metadata": {
        "id": "RUYRWTPLhIOR"
      },
      "execution_count": 47,
      "outputs": []
    },
    {
      "cell_type": "code",
      "source": [
        "new_df.drop(columns=['qc'], inplace=True)"
      ],
      "metadata": {
        "id": "jNAnKX51h5X6"
      },
      "execution_count": 48,
      "outputs": []
    },
    {
      "cell_type": "code",
      "source": [
        "# Let's deal with the missing values in url. url_alphanum doesn't have any."
      ],
      "metadata": {
        "id": "qIATRZBbh9tz"
      },
      "execution_count": 49,
      "outputs": []
    },
    {
      "cell_type": "code",
      "source": [
        "new_df['url'].fillna(df['url_alphanum'], inplace=True)"
      ],
      "metadata": {
        "id": "pyRtkWClh9zA"
      },
      "execution_count": 50,
      "outputs": []
    },
    {
      "cell_type": "code",
      "source": [
        "print(new_df['url'].isnull().sum())"
      ],
      "metadata": {
        "colab": {
          "base_uri": "https://localhost:8080/"
        },
        "id": "aCnCKX6rh91j",
        "outputId": "a0fc9325-d75f-4eea-c3e3-02a32c4a9b14"
      },
      "execution_count": 51,
      "outputs": [
        {
          "output_type": "stream",
          "name": "stdout",
          "text": [
            "0\n"
          ]
        }
      ]
    },
    {
      "cell_type": "code",
      "source": [
        "\n",
        "\n",
        "# Filter rows where 'url' column has been filled with values from 'url_alphanum'\n",
        "filled_rows = new_df['url'] == new_df['url_alphanum']\n",
        "print(new_df.loc[filled_rows, 'url'])"
      ],
      "metadata": {
        "id": "Fkf1eKA7GsBd",
        "outputId": "e5cd7a6c-5e0d-4763-c54a-dd22cbbeed77",
        "colab": {
          "base_uri": "https://localhost:8080/"
        }
      },
      "execution_count": 52,
      "outputs": [
        {
          "output_type": "stream",
          "name": "stdout",
          "text": [
            "145     httpwwwdermaamincomsiteimagesclinicalpicLLiche...\n",
            "349     httpwwwdermaamincomsiteimagesclinicalpicooralm...\n",
            "535     httpwwwdermaamincomsiteimagesclinicalpicLLiche...\n",
            "868     httpwwwdermaamincomsiteimagesclinicalpicLLiche...\n",
            "879     httpwwwdermaamincomsiteimagesclinicalpicooralm...\n",
            "918     httpwwwdermaamincomsiteimagesclinicalpicLLiche...\n",
            "1322    httpwwwdermaamincomsiteimagesclinicalpicLLiche...\n",
            "1958    httpwwwdermaamincomsiteimageshistopicjjunction...\n",
            "1972    httpwwwdermaamincomsiteimagesclinicalpicLLiche...\n",
            "2078    httpwwwdermaamincomsiteimagesclinicalpicLLiche...\n",
            "2519    httpwwwdermaamincomsiteimagesclinicalpicLLiche...\n",
            "3601    httpwwwdermaamincomsiteimagesclinicalpicLLiche...\n",
            "3672    httpwwwdermaamincomsiteimagesclinicalpicLLiche...\n",
            "Name: url, dtype: object\n"
          ]
        }
      ]
    },
    {
      "cell_type": "code",
      "source": [
        "# Define the function to convert the URL\n",
        "def convert_url(url):\n",
        "    url = url.replace(\"httpwwwdermaamincom\", \"https://www.dermaamin.com\")\n",
        "    url = url.replace(\"siteimages\", \"site/images/\")\n",
        "    url = url.replace(\"clinicalpicLLichensimplexchronicusLichensimplexchronicus\", \"clinical-pic/l/lichensimplexchronicus/lichensimplexchronicus\")\n",
        "    url = url.replace(\"site/images/l/\", \"site/images/\")\n",
        "    url = url.replace(\"jpg.jpg\", \".jpg\")\n",
        "    url = url.replace(\"jpg\", \"jpg\")\n",
        "    url = url.replace(\"com\", \"com/\")\n",
        "    return url\n",
        "\n",
        "# Apply the conversion function to the filtered rows\n",
        "df_3 = new_df.copy()  # Create a copy of the DataFrame to avoid modifying the original\n",
        "df_3.loc[filled_rows, 'url'] = df_3.loc[filled_rows, 'url'].apply(convert_url)\n",
        "\n",
        "# Print the modified 'url' column\n",
        "print(df_3.loc[filled_rows, 'url'])"
      ],
      "metadata": {
        "id": "hCnD8oa-GsC4",
        "outputId": "7f904259-8777-4a72-996c-a5c245509c65",
        "colab": {
          "base_uri": "https://localhost:8080/"
        }
      },
      "execution_count": 53,
      "outputs": [
        {
          "output_type": "stream",
          "name": "stdout",
          "text": [
            "145     https://www.dermaamin.com/site/images/clinical...\n",
            "349     https://www.dermaamin.com/site/images/clinical...\n",
            "535     https://www.dermaamin.com/site/images/clinical...\n",
            "868     https://www.dermaamin.com/site/images/clinical...\n",
            "879     https://www.dermaamin.com/site/images/clinical...\n",
            "918     https://www.dermaamin.com/site/images/clinical...\n",
            "1322    https://www.dermaamin.com/site/images/clinical...\n",
            "1958    https://www.dermaamin.com/site/images/histopic...\n",
            "1972    https://www.dermaamin.com/site/images/clinical...\n",
            "2078    https://www.dermaamin.com/site/images/clinical...\n",
            "2519    https://www.dermaamin.com/site/images/clinical...\n",
            "3601    https://www.dermaamin.com/site/images/clinical...\n",
            "3672    https://www.dermaamin.com/site/images/clinical...\n",
            "Name: url, dtype: object\n"
          ]
        }
      ]
    },
    {
      "cell_type": "code",
      "source": [
        "def download_image(image_url, file_place):\n",
        "    \"\"\"\n",
        "    Downloads images from URLs.\n",
        "\n",
        "    Inputs:\n",
        "        image_url(str): URL of the image to download.\n",
        "        file_place(str): Path where the downloaded image will be saved.\n",
        "\n",
        "    Outputs:\n",
        "        None.\n",
        "    \"\"\"\n",
        "    # Step 1: Send a GET request to the provided image URL\n",
        "    res = requests.get(image_url, stream=True, headers={'User-Agent': \"Mozilla/5.0 (Macintosh; Intel Mac OS X 10_15_7) AppleWebKit/537.36 (KHTML, like Gecko) Chrome/108.0.0.0 Safari/537.36\"})\n",
        "\n",
        "    # Step 2: Check if the request was successful (HTTP status code 200)\n",
        "    if res.status_code == 200:\n",
        "        # Step 3: If successful, open the file at the specified location in binary write mode\n",
        "        with open(file_place, 'wb') as f:\n",
        "          shutil.copyfileobj(res.raw, f) # Step 4: Copy the content of the response to the file\n",
        "        # Step 5: Print the status of the download\n",
        "\n",
        "    else:\n",
        "        print(\"Image coulnd't be retrieved\")"
      ],
      "metadata": {
        "id": "8-3M2CyXjPTc"
      },
      "execution_count": 54,
      "outputs": []
    },
    {
      "cell_type": "code",
      "source": [
        "def download_images_from_csv(csv_file, url_column_name, output_folder, label_column_name):\n",
        "    \"\"\"\n",
        "    Downloads images from URLs listed in a CSV file.\n",
        "\n",
        "    Inputs:\n",
        "        csv_file (str): Path to the CSV file containing image URLs and labels.\n",
        "        url_column_name (str): Name of the column containing image URLs.\n",
        "        output_folder (str): Path to the folder where images will be saved.\n",
        "        label_column_name (str): Name of the column containing labels.\n",
        "\n",
        "    Outputs:\n",
        "        None.\n",
        "    \"\"\"\n",
        "    os.makedirs(output_folder, exist_ok=True)  # Create the output folder if it doesn't exist\n",
        "\n",
        "    data = pd.read_csv(csv_file)  # Step1: Read CSV\n",
        "    for index, row in data.iterrows(): # Step 2: Iterate throught a loop for extract the url from the column\n",
        "        image_url = row[url_column_name]\n",
        "        label = row[label_column_name]\n",
        "        if isinstance(image_url, str) and not pd.isnull(image_url):  # Step 3: Check for NaN in URL column\n",
        "            filename = f\"{output_folder}/{label}_{index}.jpg\" # Step 4: generate a file for the downloaded image\n",
        "            download_image(image_url, filename) # Step 5: The download_image function downloads the image from the URL and saves it to the specified file\n",
        "        else:\n",
        "            print(f\"Skipping row {index} due to missing or invalid URL.\")"
      ],
      "metadata": {
        "id": "jx51LbE5GZR7"
      },
      "execution_count": 58,
      "outputs": []
    },
    {
      "cell_type": "code",
      "source": [
        "csv_file = './fitzpatrick17k.csv'  # CSV file path\n",
        "url_column_name = 'url'\n",
        "label_column_name = 'label'\n",
        "output_folder = 'project_pic'  # folder where to save downloaded images\n",
        "download_images_from_csv(csv_file, url_column_name, output_folder, label_column_name)"
      ],
      "metadata": {
        "colab": {
          "base_uri": "https://localhost:8080/"
        },
        "id": "34k2_FFiluZL",
        "outputId": "66cd00d5-92fa-4da3-d2f4-d30c9d2079f2"
      },
      "execution_count": null,
      "outputs": [
        {
          "output_type": "stream",
          "name": "stdout",
          "text": [
            "Skipping row 145 due to missing or invalid URL.\n"
          ]
        }
      ]
    },
    {
      "cell_type": "code",
      "source": [
        "# Rows being skipped are the ones that had the url replaced. Maybe new url is wrong or there is just on picture for those rows.\n",
        "# Discuss if we can just delete those rows. About 40 in the whole dataset."
      ],
      "metadata": {
        "id": "-aWsO8I_oKuw"
      },
      "execution_count": null,
      "outputs": []
    },
    {
      "cell_type": "code",
      "source": [],
      "metadata": {
        "id": "h44VoyOAlub2"
      },
      "execution_count": 56,
      "outputs": []
    },
    {
      "cell_type": "code",
      "source": [],
      "metadata": {
        "id": "CnGp9WzYluee"
      },
      "execution_count": null,
      "outputs": []
    },
    {
      "cell_type": "code",
      "source": [],
      "metadata": {
        "id": "AwLb3HvIlugn"
      },
      "execution_count": null,
      "outputs": []
    },
    {
      "cell_type": "code",
      "source": [],
      "metadata": {
        "id": "J7p-BJEVGZU5"
      },
      "execution_count": null,
      "outputs": []
    },
    {
      "cell_type": "code",
      "source": [],
      "metadata": {
        "id": "yC722AxPGZWd"
      },
      "execution_count": null,
      "outputs": []
    },
    {
      "cell_type": "code",
      "source": [],
      "metadata": {
        "id": "huH1q16cjmBo"
      },
      "execution_count": null,
      "outputs": []
    },
    {
      "cell_type": "code",
      "source": [
        "# now let's try to read urls"
      ],
      "metadata": {
        "id": "bSLTzG8Q8p_7"
      },
      "execution_count": null,
      "outputs": []
    },
    {
      "cell_type": "code",
      "source": [
        "# Select a URL from the DataFrame (e.g., the first URL)\n",
        "sample_url = df['url'].iloc[0]\n",
        "\n",
        "# Try accessing the URL\n",
        "response = requests.get(sample_url)\n",
        "\n",
        "# Check if the request was successful (status code 200)\n",
        "if response.status_code == 200:\n",
        "    print(\"URL accessed successfully.\")\n",
        "else:\n",
        "    print(\"Failed to access the URL.\")"
      ],
      "metadata": {
        "colab": {
          "base_uri": "https://localhost:8080/"
        },
        "id": "ux66BgHz81bm",
        "outputId": "8e20d341-b67c-4a26-86f4-9a86d30a5b73"
      },
      "execution_count": null,
      "outputs": [
        {
          "output_type": "stream",
          "name": "stdout",
          "text": [
            "Failed to access the URL.\n"
          ]
        }
      ]
    },
    {
      "cell_type": "code",
      "source": [
        "headers = {'Accept': 'image/jpeg, image/png, */*'}\n",
        "response = requests.get(sample_url, headers=headers)"
      ],
      "metadata": {
        "id": "x7lhjl45zSud"
      },
      "execution_count": null,
      "outputs": []
    },
    {
      "cell_type": "code",
      "source": [
        "# Select a URL from the DataFrame (e.g., the first URL)\n",
        "sample_url = df['url'].iloc[0]\n",
        "\n",
        "try:\n",
        "    # Try accessing the URL\n",
        "    response = requests.get(sample_url)\n",
        "\n",
        "    # Check if the request was successful (status code 200)\n",
        "    if response.status_code == 200:\n",
        "        print(\"URL accessed successfully.\")\n",
        "    else:\n",
        "        print(f\"Failed to access the URL. Status code: {response.status_code}\")\n",
        "except Exception as e:\n",
        "    print(f\"An error occurred: {str(e)}\")"
      ],
      "metadata": {
        "id": "bo_8caa3zIul",
        "outputId": "2a03af8a-2629-45fb-90d5-159c2a654aff",
        "colab": {
          "base_uri": "https://localhost:8080/"
        }
      },
      "execution_count": null,
      "outputs": [
        {
          "output_type": "stream",
          "name": "stdout",
          "text": [
            "Failed to access the URL. Status code: 406\n"
          ]
        }
      ]
    },
    {
      "cell_type": "code",
      "source": [
        "# Manually specify a URL from the \"url\" column\n",
        "sample_url = \"https://www.dermaamin.com/site/images/clinical-pic/p/photosensitivity/photosensitivity18.jpg\"\n",
        "\n",
        "# Try accessing the URL\n",
        "response = requests.get(sample_url)\n",
        "\n",
        "# Check if the request was successful (status code 200)\n",
        "if response.status_code == 200:\n",
        "    print(\"URL accessed successfully.\")\n",
        "else:\n",
        "    print(\"Failed to access the URL.\")"
      ],
      "metadata": {
        "colab": {
          "base_uri": "https://localhost:8080/"
        },
        "id": "gPYUP55v81fq",
        "outputId": "2722c686-ff83-4f0c-93e1-a8b4dcd639a3"
      },
      "execution_count": null,
      "outputs": [
        {
          "output_type": "stream",
          "name": "stdout",
          "text": [
            "Failed to access the URL.\n"
          ]
        }
      ]
    },
    {
      "cell_type": "code",
      "source": [],
      "metadata": {
        "id": "2co1r3kX81hs"
      },
      "execution_count": null,
      "outputs": []
    },
    {
      "cell_type": "code",
      "source": [],
      "metadata": {
        "id": "k7PYgLSwM2Cc"
      },
      "execution_count": null,
      "outputs": []
    },
    {
      "cell_type": "code",
      "source": [],
      "metadata": {
        "id": "YP7kxCURM2Gn"
      },
      "execution_count": null,
      "outputs": []
    },
    {
      "cell_type": "code",
      "source": [],
      "metadata": {
        "id": "AUaKDxUcM2JP"
      },
      "execution_count": null,
      "outputs": []
    },
    {
      "cell_type": "code",
      "source": [],
      "metadata": {
        "id": "OcVHooV9M2MC"
      },
      "execution_count": null,
      "outputs": []
    }
  ]
}